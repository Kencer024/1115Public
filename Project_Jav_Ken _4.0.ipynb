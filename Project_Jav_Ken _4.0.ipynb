{
 "cells": [
  {
   "cell_type": "code",
   "execution_count": 1,
   "metadata": {},
   "outputs": [],
   "source": [
    "import requests # to make TMDB API calls\n",
    "import locale # to format currency as USD\n",
    "locale.setlocale( locale.LC_ALL, '' )\n",
    "import pinyin as pinyin\n",
    "\n",
    "import pandas as pd\n",
    "import matplotlib\n",
    "import matplotlib.pyplot as plt\n",
    "from matplotlib.ticker import FuncFormatter # to format currency on charts axis\n",
    "\n",
    "\n",
    "# Basic Libraries\n",
    "import numpy as np\n",
    "import pandas as pd\n",
    "import seaborn as sb"
   ]
  },
  {
   "cell_type": "code",
   "execution_count": 2,
   "metadata": {},
   "outputs": [
    {
     "name": "stdout",
     "output_type": "stream",
     "text": [
      "200\n"
     ]
    }
   ],
   "source": [
    "api_key = 'aaa47fdcde4f3ddc7519fb20b452e47c'\n",
    "response = requests.get('https://api.themoviedb.org/3/discover/movie?api_key=' +  api_key + '&primary_release_year=2020&sort_by=revenue.desc')\n",
    "print(response.status_code)"
   ]
  },
  {
   "cell_type": "code",
   "execution_count": 3,
   "metadata": {},
   "outputs": [],
   "source": [
    "result = response.json()\n",
    "titles = result['results']"
   ]
  },
  {
   "cell_type": "code",
   "execution_count": 4,
   "metadata": {},
   "outputs": [
    {
     "name": "stdout",
     "output_type": "stream",
     "text": [
      "{'adult': False, 'backdrop_path': '/hmNKg4hN2BYftaCJGdKHyETFFki.jpg', 'genre_ids': [10752, 36, 18, 28], 'id': 508935, 'original_language': 'zh', 'original_title': '八佰', 'overview': 'In 1937, eight hundred Chinese soldiers fight under siege from a warehouse in the middle of the Shanghai battlefield, completely surrounded by the Japanese army.', 'popularity': 14.21, 'poster_path': '/2tuJiQQUJNZgEmBgBfNVaYvAnPT.jpg', 'release_date': '2020-08-14', 'title': 'The Eight Hundred', 'video': False, 'vote_average': 7.3, 'vote_count': 58}\n"
     ]
    }
   ],
   "source": [
    "print(titles[0])"
   ]
  },
  {
   "cell_type": "code",
   "execution_count": 5,
   "metadata": {},
   "outputs": [
    {
     "name": "stdout",
     "output_type": "stream",
     "text": [
      "dict_keys(['adult', 'backdrop_path', 'genre_ids', 'id', 'original_language', 'original_title', 'overview', 'popularity', 'poster_path', 'release_date', 'title', 'video', 'vote_average', 'vote_count'])\n"
     ]
    }
   ],
   "source": [
    "print(titles[0].keys())"
   ]
  },
  {
   "cell_type": "code",
   "execution_count": 6,
   "metadata": {},
   "outputs": [],
   "source": [
    "new_dict = {}"
   ]
  },
  {
   "cell_type": "markdown",
   "metadata": {},
   "source": [
    "# Start of Dataframe df"
   ]
  },
  {
   "cell_type": "code",
   "execution_count": 7,
   "metadata": {},
   "outputs": [
    {
     "name": "stdout",
     "output_type": "stream",
     "text": [
      "八佰\n",
      "Metallica: WorldWired Tour - Live in Manchester, England - June 18, 2019\n",
      "Bad Boys for Life\n",
      "劇場版「鬼滅の刃」無限列車編\n",
      "Tenet\n",
      "Sonic the Hedgehog\n",
      "Dolittle\n",
      "姜子牙\n",
      "Birds of Prey (and the Fantabulous Emancipation of One Harley Quinn)\n",
      "Wonder Woman 1984\n",
      "Onward\n",
      "The Croods: A New Age\n",
      "The Invisible Man\n",
      "The Call of the Wild\n",
      "Manbaby Cries Because He Isn't Added to Discord Chat (Gone Wrong)\n",
      "晴雅集\n",
      "Soul\n",
      "Mulan\n",
      "Tolo Tolo\n",
      "Greenland\n"
     ]
    }
   ],
   "source": [
    "for i in range(len(titles)) :\n",
    "    print(titles[i]['original_title'])\n",
    "    new_dict[str(titles[i]['original_title'])] = [titles[i]['popularity'], titles[i]['release_date'], titles[i]['vote_count'], titles[i]['id'],titles[i]['release_date']]"
   ]
  },
  {
   "cell_type": "code",
   "execution_count": 8,
   "metadata": {},
   "outputs": [
    {
     "data": {
      "text/plain": [
       "{'八佰': [14.21, '2020-08-14', 58, 508935, '2020-08-14'],\n",
       " 'Metallica: WorldWired Tour - Live in Manchester, England - June 18, 2019': [3.716,\n",
       "  '2020-06-08',\n",
       "  0,\n",
       "  715904,\n",
       "  '2020-06-08'],\n",
       " 'Bad Boys for Life': [447.439, '2020-01-15', 6106, 38700, '2020-01-15'],\n",
       " '劇場版「鬼滅の刃」無限列車編': [180.335, '2020-10-16', 507, 635302, '2020-10-16'],\n",
       " 'Tenet': [479.243, '2020-08-22', 4771, 577922, '2020-08-22'],\n",
       " 'Sonic the Hedgehog': [105.31, '2020-02-12', 6658, 454626, '2020-02-12'],\n",
       " 'Dolittle': [42.789, '2020-01-01', 2469, 448119, '2020-01-01'],\n",
       " '姜子牙': [16.148, '2020-10-01', 10, 635389, '2020-10-01'],\n",
       " 'Birds of Prey (and the Fantabulous Emancipation of One Harley Quinn)': [580.339,\n",
       "  '2020-02-05',\n",
       "  7175,\n",
       "  495764,\n",
       "  '2020-02-05'],\n",
       " 'Wonder Woman 1984': [1767.249, '2020-12-16', 4425, 464052, '2020-12-16'],\n",
       " 'Onward': [70.145, '2020-02-29', 4043, 508439, '2020-02-29'],\n",
       " 'The Croods: A New Age': [701.92, '2020-11-25', 1781, 529203, '2020-11-25'],\n",
       " 'The Invisible Man': [45.288, '2020-02-26', 3575, 570670, '2020-02-26'],\n",
       " 'The Call of the Wild': [82.98, '2020-02-19', 2389, 481848, '2020-02-19'],\n",
       " \"Manbaby Cries Because He Isn't Added to Discord Chat (Gone Wrong)\": [1.805,\n",
       "  '2020-02-19',\n",
       "  1,\n",
       "  774455,\n",
       "  '2020-02-19'],\n",
       " '晴雅集': [25.91, '2020-12-24', 49, 757860, '2020-12-24'],\n",
       " 'Soul': [688.025, '2020-12-25', 5370, 508442, '2020-12-25'],\n",
       " 'Mulan': [259.953, '2020-09-04', 4500, 337401, '2020-09-04'],\n",
       " 'Tolo Tolo': [9.612, '2020-01-01', 897, 593402, '2020-01-01'],\n",
       " 'Greenland': [126.032, '2020-07-29', 2283, 524047, '2020-07-29']}"
      ]
     },
     "execution_count": 8,
     "metadata": {},
     "output_type": "execute_result"
    }
   ],
   "source": [
    "new_dict"
   ]
  },
  {
   "cell_type": "code",
   "execution_count": 9,
   "metadata": {
    "scrolled": false
   },
   "outputs": [
    {
     "data": {
      "text/html": [
       "<div>\n",
       "<style scoped>\n",
       "    .dataframe tbody tr th:only-of-type {\n",
       "        vertical-align: middle;\n",
       "    }\n",
       "\n",
       "    .dataframe tbody tr th {\n",
       "        vertical-align: top;\n",
       "    }\n",
       "\n",
       "    .dataframe thead th {\n",
       "        text-align: right;\n",
       "    }\n",
       "</style>\n",
       "<table border=\"1\" class=\"dataframe\">\n",
       "  <thead>\n",
       "    <tr style=\"text-align: right;\">\n",
       "      <th></th>\n",
       "      <th>popularity</th>\n",
       "      <th>release-date</th>\n",
       "      <th>vote count</th>\n",
       "      <th>id</th>\n",
       "      <th>release_date</th>\n",
       "    </tr>\n",
       "  </thead>\n",
       "  <tbody>\n",
       "    <tr>\n",
       "      <th>八佰</th>\n",
       "      <td>14.210</td>\n",
       "      <td>2020-08-14</td>\n",
       "      <td>58</td>\n",
       "      <td>508935</td>\n",
       "      <td>2020-08-14</td>\n",
       "    </tr>\n",
       "    <tr>\n",
       "      <th>Metallica: WorldWired Tour - Live in Manchester, England - June 18, 2019</th>\n",
       "      <td>3.716</td>\n",
       "      <td>2020-06-08</td>\n",
       "      <td>0</td>\n",
       "      <td>715904</td>\n",
       "      <td>2020-06-08</td>\n",
       "    </tr>\n",
       "    <tr>\n",
       "      <th>Bad Boys for Life</th>\n",
       "      <td>447.439</td>\n",
       "      <td>2020-01-15</td>\n",
       "      <td>6106</td>\n",
       "      <td>38700</td>\n",
       "      <td>2020-01-15</td>\n",
       "    </tr>\n",
       "    <tr>\n",
       "      <th>劇場版「鬼滅の刃」無限列車編</th>\n",
       "      <td>180.335</td>\n",
       "      <td>2020-10-16</td>\n",
       "      <td>507</td>\n",
       "      <td>635302</td>\n",
       "      <td>2020-10-16</td>\n",
       "    </tr>\n",
       "    <tr>\n",
       "      <th>Tenet</th>\n",
       "      <td>479.243</td>\n",
       "      <td>2020-08-22</td>\n",
       "      <td>4771</td>\n",
       "      <td>577922</td>\n",
       "      <td>2020-08-22</td>\n",
       "    </tr>\n",
       "    <tr>\n",
       "      <th>Sonic the Hedgehog</th>\n",
       "      <td>105.310</td>\n",
       "      <td>2020-02-12</td>\n",
       "      <td>6658</td>\n",
       "      <td>454626</td>\n",
       "      <td>2020-02-12</td>\n",
       "    </tr>\n",
       "    <tr>\n",
       "      <th>Dolittle</th>\n",
       "      <td>42.789</td>\n",
       "      <td>2020-01-01</td>\n",
       "      <td>2469</td>\n",
       "      <td>448119</td>\n",
       "      <td>2020-01-01</td>\n",
       "    </tr>\n",
       "    <tr>\n",
       "      <th>姜子牙</th>\n",
       "      <td>16.148</td>\n",
       "      <td>2020-10-01</td>\n",
       "      <td>10</td>\n",
       "      <td>635389</td>\n",
       "      <td>2020-10-01</td>\n",
       "    </tr>\n",
       "    <tr>\n",
       "      <th>Birds of Prey (and the Fantabulous Emancipation of One Harley Quinn)</th>\n",
       "      <td>580.339</td>\n",
       "      <td>2020-02-05</td>\n",
       "      <td>7175</td>\n",
       "      <td>495764</td>\n",
       "      <td>2020-02-05</td>\n",
       "    </tr>\n",
       "    <tr>\n",
       "      <th>Wonder Woman 1984</th>\n",
       "      <td>1767.249</td>\n",
       "      <td>2020-12-16</td>\n",
       "      <td>4425</td>\n",
       "      <td>464052</td>\n",
       "      <td>2020-12-16</td>\n",
       "    </tr>\n",
       "    <tr>\n",
       "      <th>Onward</th>\n",
       "      <td>70.145</td>\n",
       "      <td>2020-02-29</td>\n",
       "      <td>4043</td>\n",
       "      <td>508439</td>\n",
       "      <td>2020-02-29</td>\n",
       "    </tr>\n",
       "    <tr>\n",
       "      <th>The Croods: A New Age</th>\n",
       "      <td>701.920</td>\n",
       "      <td>2020-11-25</td>\n",
       "      <td>1781</td>\n",
       "      <td>529203</td>\n",
       "      <td>2020-11-25</td>\n",
       "    </tr>\n",
       "    <tr>\n",
       "      <th>The Invisible Man</th>\n",
       "      <td>45.288</td>\n",
       "      <td>2020-02-26</td>\n",
       "      <td>3575</td>\n",
       "      <td>570670</td>\n",
       "      <td>2020-02-26</td>\n",
       "    </tr>\n",
       "    <tr>\n",
       "      <th>The Call of the Wild</th>\n",
       "      <td>82.980</td>\n",
       "      <td>2020-02-19</td>\n",
       "      <td>2389</td>\n",
       "      <td>481848</td>\n",
       "      <td>2020-02-19</td>\n",
       "    </tr>\n",
       "    <tr>\n",
       "      <th>Manbaby Cries Because He Isn't Added to Discord Chat (Gone Wrong)</th>\n",
       "      <td>1.805</td>\n",
       "      <td>2020-02-19</td>\n",
       "      <td>1</td>\n",
       "      <td>774455</td>\n",
       "      <td>2020-02-19</td>\n",
       "    </tr>\n",
       "    <tr>\n",
       "      <th>晴雅集</th>\n",
       "      <td>25.910</td>\n",
       "      <td>2020-12-24</td>\n",
       "      <td>49</td>\n",
       "      <td>757860</td>\n",
       "      <td>2020-12-24</td>\n",
       "    </tr>\n",
       "    <tr>\n",
       "      <th>Soul</th>\n",
       "      <td>688.025</td>\n",
       "      <td>2020-12-25</td>\n",
       "      <td>5370</td>\n",
       "      <td>508442</td>\n",
       "      <td>2020-12-25</td>\n",
       "    </tr>\n",
       "    <tr>\n",
       "      <th>Mulan</th>\n",
       "      <td>259.953</td>\n",
       "      <td>2020-09-04</td>\n",
       "      <td>4500</td>\n",
       "      <td>337401</td>\n",
       "      <td>2020-09-04</td>\n",
       "    </tr>\n",
       "    <tr>\n",
       "      <th>Tolo Tolo</th>\n",
       "      <td>9.612</td>\n",
       "      <td>2020-01-01</td>\n",
       "      <td>897</td>\n",
       "      <td>593402</td>\n",
       "      <td>2020-01-01</td>\n",
       "    </tr>\n",
       "    <tr>\n",
       "      <th>Greenland</th>\n",
       "      <td>126.032</td>\n",
       "      <td>2020-07-29</td>\n",
       "      <td>2283</td>\n",
       "      <td>524047</td>\n",
       "      <td>2020-07-29</td>\n",
       "    </tr>\n",
       "  </tbody>\n",
       "</table>\n",
       "</div>"
      ],
      "text/plain": [
       "                                                    popularity release-date  \\\n",
       "八佰                                                      14.210   2020-08-14   \n",
       "Metallica: WorldWired Tour - Live in Manchester...       3.716   2020-06-08   \n",
       "Bad Boys for Life                                      447.439   2020-01-15   \n",
       "劇場版「鬼滅の刃」無限列車編                                         180.335   2020-10-16   \n",
       "Tenet                                                  479.243   2020-08-22   \n",
       "Sonic the Hedgehog                                     105.310   2020-02-12   \n",
       "Dolittle                                                42.789   2020-01-01   \n",
       "姜子牙                                                     16.148   2020-10-01   \n",
       "Birds of Prey (and the Fantabulous Emancipation...     580.339   2020-02-05   \n",
       "Wonder Woman 1984                                     1767.249   2020-12-16   \n",
       "Onward                                                  70.145   2020-02-29   \n",
       "The Croods: A New Age                                  701.920   2020-11-25   \n",
       "The Invisible Man                                       45.288   2020-02-26   \n",
       "The Call of the Wild                                    82.980   2020-02-19   \n",
       "Manbaby Cries Because He Isn't Added to Discord...       1.805   2020-02-19   \n",
       "晴雅集                                                     25.910   2020-12-24   \n",
       "Soul                                                   688.025   2020-12-25   \n",
       "Mulan                                                  259.953   2020-09-04   \n",
       "Tolo Tolo                                                9.612   2020-01-01   \n",
       "Greenland                                              126.032   2020-07-29   \n",
       "\n",
       "                                                    vote count      id  \\\n",
       "八佰                                                          58  508935   \n",
       "Metallica: WorldWired Tour - Live in Manchester...           0  715904   \n",
       "Bad Boys for Life                                         6106   38700   \n",
       "劇場版「鬼滅の刃」無限列車編                                             507  635302   \n",
       "Tenet                                                     4771  577922   \n",
       "Sonic the Hedgehog                                        6658  454626   \n",
       "Dolittle                                                  2469  448119   \n",
       "姜子牙                                                         10  635389   \n",
       "Birds of Prey (and the Fantabulous Emancipation...        7175  495764   \n",
       "Wonder Woman 1984                                         4425  464052   \n",
       "Onward                                                    4043  508439   \n",
       "The Croods: A New Age                                     1781  529203   \n",
       "The Invisible Man                                         3575  570670   \n",
       "The Call of the Wild                                      2389  481848   \n",
       "Manbaby Cries Because He Isn't Added to Discord...           1  774455   \n",
       "晴雅集                                                         49  757860   \n",
       "Soul                                                      5370  508442   \n",
       "Mulan                                                     4500  337401   \n",
       "Tolo Tolo                                                  897  593402   \n",
       "Greenland                                                 2283  524047   \n",
       "\n",
       "                                                   release_date  \n",
       "八佰                                                   2020-08-14  \n",
       "Metallica: WorldWired Tour - Live in Manchester...   2020-06-08  \n",
       "Bad Boys for Life                                    2020-01-15  \n",
       "劇場版「鬼滅の刃」無限列車編                                       2020-10-16  \n",
       "Tenet                                                2020-08-22  \n",
       "Sonic the Hedgehog                                   2020-02-12  \n",
       "Dolittle                                             2020-01-01  \n",
       "姜子牙                                                  2020-10-01  \n",
       "Birds of Prey (and the Fantabulous Emancipation...   2020-02-05  \n",
       "Wonder Woman 1984                                    2020-12-16  \n",
       "Onward                                               2020-02-29  \n",
       "The Croods: A New Age                                2020-11-25  \n",
       "The Invisible Man                                    2020-02-26  \n",
       "The Call of the Wild                                 2020-02-19  \n",
       "Manbaby Cries Because He Isn't Added to Discord...   2020-02-19  \n",
       "晴雅集                                                  2020-12-24  \n",
       "Soul                                                 2020-12-25  \n",
       "Mulan                                                2020-09-04  \n",
       "Tolo Tolo                                            2020-01-01  \n",
       "Greenland                                            2020-07-29  "
      ]
     },
     "execution_count": 9,
     "metadata": {},
     "output_type": "execute_result"
    }
   ],
   "source": [
    "data = pd.DataFrame.from_dict(new_dict, orient = 'index', columns = ['popularity', 'release-date', 'vote count', 'id','release_date'])\n",
    "result = data.sort_values('popularity', ascending=False)\n",
    "resultdata = pd.DataFrame.from_dict(new_dict, orient = 'index', columns = ['popularity', 'release-date', 'vote count','id','release_date'])\n",
    "data"
   ]
  },
  {
   "cell_type": "markdown",
   "metadata": {},
   "source": [
    "# 2) Finding highest revenue¶\n",
    "\n",
    "https://dev.to/m0nica/how-to-use-the-tmdb-api-to-find-films-with-the-highest-revenue-82p"
   ]
  },
  {
   "cell_type": "code",
   "execution_count": 10,
   "metadata": {
    "scrolled": false
   },
   "outputs": [
    {
     "data": {
      "text/html": [
       "<div>\n",
       "<style scoped>\n",
       "    .dataframe tbody tr th:only-of-type {\n",
       "        vertical-align: middle;\n",
       "    }\n",
       "\n",
       "    .dataframe tbody tr th {\n",
       "        vertical-align: top;\n",
       "    }\n",
       "\n",
       "    .dataframe thead th {\n",
       "        text-align: right;\n",
       "    }\n",
       "</style>\n",
       "<table border=\"1\" class=\"dataframe\">\n",
       "  <thead>\n",
       "    <tr style=\"text-align: right;\">\n",
       "      <th></th>\n",
       "      <th>film</th>\n",
       "      <th>revenue</th>\n",
       "      <th>genre</th>\n",
       "      <th>no_of_genres</th>\n",
       "    </tr>\n",
       "  </thead>\n",
       "  <tbody>\n",
       "  </tbody>\n",
       "</table>\n",
       "</div>"
      ],
      "text/plain": [
       "Empty DataFrame\n",
       "Columns: [film, revenue, genre, no_of_genres]\n",
       "Index: []"
      ]
     },
     "execution_count": 10,
     "metadata": {},
     "output_type": "execute_result"
    }
   ],
   "source": [
    "# define column names for our new dataframe\n",
    "columns = ['film', 'revenue','genre', 'no_of_genres']\n",
    "\n",
    "# create dataframe with film and revenue columns\n",
    "df = pd.DataFrame(columns=columns)\n",
    "df"
   ]
  },
  {
   "cell_type": "code",
   "execution_count": 11,
   "metadata": {},
   "outputs": [
    {
     "data": {
      "text/plain": [
       "[10752, 36, 18, 28]"
      ]
     },
     "execution_count": 11,
     "metadata": {},
     "output_type": "execute_result"
    }
   ],
   "source": [
    "titles[0]['genre_ids']"
   ]
  },
  {
   "cell_type": "code",
   "execution_count": 12,
   "metadata": {},
   "outputs": [
    {
     "name": "stdout",
     "output_type": "stream",
     "text": [
      "babai\n"
     ]
    }
   ],
   "source": [
    "en = pinyin.get(titles[0]['original_title'], format=\"strip\", delimiter=\"\")\n",
    "print(en)"
   ]
  },
  {
   "cell_type": "code",
   "execution_count": 13,
   "metadata": {},
   "outputs": [],
   "source": [
    "for i in range(len(titles)) :\n",
    "    en = pinyin.get(titles[i]['original_title'], format=\"strip\", delimiter=\"\")\n",
    "    if(en.isalnum() == False):    # failed checking for の char\n",
    "        temp_str = ''\n",
    "        for k in en :\n",
    "            if(k.isalnum()):\n",
    "                temp_str += k\n",
    "            else :\n",
    "                temp_str += ' '\n",
    "        en = temp_str\n",
    "    titles[i]['original_title'] = en\n",
    "    \n",
    "\n",
    "    \n",
    "titles[3]['original_title'] = 'juchangban guimie ren wuxianliechebian'   # temporary solution for non alpnum char"
   ]
  },
  {
   "cell_type": "code",
   "execution_count": 14,
   "metadata": {},
   "outputs": [],
   "source": [
    "api_token = \"aaa47fdcde4f3ddc7519fb20b452e47c\"\n",
    "\n",
    "for i in range(len(titles)) :\n",
    "    genre = ''\n",
    "    no_gen = 0\n",
    "    film_revenue = requests.get('https://api.themoviedb.org/3/movie/'+ str(titles[i]['id']) +'?api_key='+ api_token+'&language=en-US')\n",
    "    film_revenue = film_revenue.json()\n",
    "    title = titles[i]['original_title']\n",
    "    for i in range(len(film_revenue['genres'])):\n",
    "        genre += '|'\n",
    "        genre += film_revenue['genres'][i]['name']\n",
    "        no_gen += 1\n",
    "        \n",
    "    df.loc[len(df)]=[title,film_revenue['revenue'],genre, no_gen] # store title and revenue in our dataframe"
   ]
  },
  {
   "cell_type": "markdown",
   "metadata": {},
   "source": [
    "Adding to dataframe"
   ]
  },
  {
   "cell_type": "code",
   "execution_count": 15,
   "metadata": {},
   "outputs": [
    {
     "data": {
      "text/html": [
       "<div>\n",
       "<style scoped>\n",
       "    .dataframe tbody tr th:only-of-type {\n",
       "        vertical-align: middle;\n",
       "    }\n",
       "\n",
       "    .dataframe tbody tr th {\n",
       "        vertical-align: top;\n",
       "    }\n",
       "\n",
       "    .dataframe thead th {\n",
       "        text-align: right;\n",
       "    }\n",
       "</style>\n",
       "<table border=\"1\" class=\"dataframe\">\n",
       "  <thead>\n",
       "    <tr style=\"text-align: right;\">\n",
       "      <th></th>\n",
       "      <th>film</th>\n",
       "      <th>revenue</th>\n",
       "      <th>genre</th>\n",
       "      <th>no_of_genres</th>\n",
       "    </tr>\n",
       "  </thead>\n",
       "  <tbody>\n",
       "    <tr>\n",
       "      <th>0</th>\n",
       "      <td>babai</td>\n",
       "      <td>460919368</td>\n",
       "      <td>|War|History|Drama|Action</td>\n",
       "      <td>4</td>\n",
       "    </tr>\n",
       "    <tr>\n",
       "      <th>1</th>\n",
       "      <td>Metallica  WorldWired Tour   Live in Mancheste...</td>\n",
       "      <td>426900000</td>\n",
       "      <td>|Music</td>\n",
       "      <td>1</td>\n",
       "    </tr>\n",
       "    <tr>\n",
       "      <th>2</th>\n",
       "      <td>Bad Boys for Life</td>\n",
       "      <td>426505244</td>\n",
       "      <td>|Thriller|Action|Crime</td>\n",
       "      <td>3</td>\n",
       "    </tr>\n",
       "    <tr>\n",
       "      <th>3</th>\n",
       "      <td>juchangban guimie ren wuxianliechebian</td>\n",
       "      <td>399180000</td>\n",
       "      <td>|Animation|Action|Adventure|Fantasy|Drama</td>\n",
       "      <td>5</td>\n",
       "    </tr>\n",
       "    <tr>\n",
       "      <th>4</th>\n",
       "      <td>Tenet</td>\n",
       "      <td>363129000</td>\n",
       "      <td>|Action|Thriller|Science Fiction</td>\n",
       "      <td>3</td>\n",
       "    </tr>\n",
       "    <tr>\n",
       "      <th>5</th>\n",
       "      <td>Sonic the Hedgehog</td>\n",
       "      <td>306766470</td>\n",
       "      <td>|Action|Science Fiction|Comedy|Family</td>\n",
       "      <td>4</td>\n",
       "    </tr>\n",
       "    <tr>\n",
       "      <th>6</th>\n",
       "      <td>Dolittle</td>\n",
       "      <td>245692007</td>\n",
       "      <td>|Family|Fantasy|Adventure</td>\n",
       "      <td>3</td>\n",
       "    </tr>\n",
       "    <tr>\n",
       "      <th>7</th>\n",
       "      <td>jiangziya</td>\n",
       "      <td>240656068</td>\n",
       "      <td>|Animation|Action|Fantasy|Adventure</td>\n",
       "      <td>4</td>\n",
       "    </tr>\n",
       "    <tr>\n",
       "      <th>8</th>\n",
       "      <td>Birds of Prey  and the Fantabulous Emancipatio...</td>\n",
       "      <td>201858461</td>\n",
       "      <td>|Action|Crime</td>\n",
       "      <td>2</td>\n",
       "    </tr>\n",
       "    <tr>\n",
       "      <th>9</th>\n",
       "      <td>Wonder Woman 1984</td>\n",
       "      <td>159533000</td>\n",
       "      <td>|Fantasy|Action|Adventure</td>\n",
       "      <td>3</td>\n",
       "    </tr>\n",
       "    <tr>\n",
       "      <th>10</th>\n",
       "      <td>Onward</td>\n",
       "      <td>141592359</td>\n",
       "      <td>|Animation|Family|Adventure|Comedy|Fantasy</td>\n",
       "      <td>5</td>\n",
       "    </tr>\n",
       "    <tr>\n",
       "      <th>11</th>\n",
       "      <td>The Croods  A New Age</td>\n",
       "      <td>135076090</td>\n",
       "      <td>|Family|Fantasy|Animation|Comedy</td>\n",
       "      <td>4</td>\n",
       "    </tr>\n",
       "    <tr>\n",
       "      <th>12</th>\n",
       "      <td>The Invisible Man</td>\n",
       "      <td>130234661</td>\n",
       "      <td>|Thriller|Science Fiction|Horror</td>\n",
       "      <td>3</td>\n",
       "    </tr>\n",
       "    <tr>\n",
       "      <th>13</th>\n",
       "      <td>The Call of the Wild</td>\n",
       "      <td>107604626</td>\n",
       "      <td>|Drama|Adventure|Family</td>\n",
       "      <td>3</td>\n",
       "    </tr>\n",
       "    <tr>\n",
       "      <th>14</th>\n",
       "      <td>Manbaby Cries Because He Isn t Added to Discor...</td>\n",
       "      <td>99000000</td>\n",
       "      <td>|War</td>\n",
       "      <td>1</td>\n",
       "    </tr>\n",
       "    <tr>\n",
       "      <th>15</th>\n",
       "      <td>qingyaji</td>\n",
       "      <td>69000000</td>\n",
       "      <td>|Action|Drama|Fantasy|Mystery|Science Fiction</td>\n",
       "      <td>5</td>\n",
       "    </tr>\n",
       "    <tr>\n",
       "      <th>16</th>\n",
       "      <td>Soul</td>\n",
       "      <td>57400000</td>\n",
       "      <td>|Family|Animation|Comedy|Drama|Music|Fantasy</td>\n",
       "      <td>6</td>\n",
       "    </tr>\n",
       "    <tr>\n",
       "      <th>17</th>\n",
       "      <td>Mulan</td>\n",
       "      <td>57000000</td>\n",
       "      <td>|Adventure|Fantasy</td>\n",
       "      <td>2</td>\n",
       "    </tr>\n",
       "    <tr>\n",
       "      <th>18</th>\n",
       "      <td>Tolo Tolo</td>\n",
       "      <td>52186426</td>\n",
       "      <td>|Comedy|Drama|Family</td>\n",
       "      <td>3</td>\n",
       "    </tr>\n",
       "    <tr>\n",
       "      <th>19</th>\n",
       "      <td>Greenland</td>\n",
       "      <td>47800000</td>\n",
       "      <td>|Action</td>\n",
       "      <td>1</td>\n",
       "    </tr>\n",
       "  </tbody>\n",
       "</table>\n",
       "</div>"
      ],
      "text/plain": [
       "                                                 film    revenue  \\\n",
       "0                                               babai  460919368   \n",
       "1   Metallica  WorldWired Tour   Live in Mancheste...  426900000   \n",
       "2                                   Bad Boys for Life  426505244   \n",
       "3              juchangban guimie ren wuxianliechebian  399180000   \n",
       "4                                               Tenet  363129000   \n",
       "5                                  Sonic the Hedgehog  306766470   \n",
       "6                                            Dolittle  245692007   \n",
       "7                                           jiangziya  240656068   \n",
       "8   Birds of Prey  and the Fantabulous Emancipatio...  201858461   \n",
       "9                                   Wonder Woman 1984  159533000   \n",
       "10                                             Onward  141592359   \n",
       "11                              The Croods  A New Age  135076090   \n",
       "12                                  The Invisible Man  130234661   \n",
       "13                               The Call of the Wild  107604626   \n",
       "14  Manbaby Cries Because He Isn t Added to Discor...   99000000   \n",
       "15                                           qingyaji   69000000   \n",
       "16                                               Soul   57400000   \n",
       "17                                              Mulan   57000000   \n",
       "18                                          Tolo Tolo   52186426   \n",
       "19                                          Greenland   47800000   \n",
       "\n",
       "                                            genre no_of_genres  \n",
       "0                       |War|History|Drama|Action            4  \n",
       "1                                          |Music            1  \n",
       "2                          |Thriller|Action|Crime            3  \n",
       "3       |Animation|Action|Adventure|Fantasy|Drama            5  \n",
       "4                |Action|Thriller|Science Fiction            3  \n",
       "5           |Action|Science Fiction|Comedy|Family            4  \n",
       "6                       |Family|Fantasy|Adventure            3  \n",
       "7             |Animation|Action|Fantasy|Adventure            4  \n",
       "8                                   |Action|Crime            2  \n",
       "9                       |Fantasy|Action|Adventure            3  \n",
       "10     |Animation|Family|Adventure|Comedy|Fantasy            5  \n",
       "11               |Family|Fantasy|Animation|Comedy            4  \n",
       "12               |Thriller|Science Fiction|Horror            3  \n",
       "13                        |Drama|Adventure|Family            3  \n",
       "14                                           |War            1  \n",
       "15  |Action|Drama|Fantasy|Mystery|Science Fiction            5  \n",
       "16   |Family|Animation|Comedy|Drama|Music|Fantasy            6  \n",
       "17                             |Adventure|Fantasy            2  \n",
       "18                           |Comedy|Drama|Family            3  \n",
       "19                                        |Action            1  "
      ]
     },
     "execution_count": 15,
     "metadata": {},
     "output_type": "execute_result"
    }
   ],
   "source": [
    "df"
   ]
  },
  {
   "cell_type": "code",
   "execution_count": 16,
   "metadata": {},
   "outputs": [
    {
     "data": {
      "text/plain": [
       "<AxesSubplot:xlabel='revenue', ylabel='film'>"
      ]
     },
     "execution_count": 16,
     "metadata": {},
     "output_type": "execute_result"
    },
    {
     "data": {
      "image/png": "[encoded data removed]",
      "text/plain": [
       "<Figure size 720x864 with 1 Axes>"
      ]
     },
     "metadata": {
      "needs_background": "light"
     },
     "output_type": "display_data"
    }
   ],
   "source": [
    "f = plt.figure(figsize=(10, 12))\n",
    "sb.barplot(x=\"revenue\", y=\"film\", data= df)"
   ]
  },
  {
   "cell_type": "markdown",
   "metadata": {},
   "source": [
    "## 3) Start of analysis of data by comparing the revenue to genres"
   ]
  },
  {
   "cell_type": "code",
   "execution_count": 17,
   "metadata": {},
   "outputs": [],
   "source": [
    "film_revenue = requests.get('https://api.themoviedb.org/3/movie/508935?api_key=aaa47fdcde4f3ddc7519fb20b452e47c')\n",
    "film_revenue = film_revenue.json()"
   ]
  },
  {
   "cell_type": "code",
   "execution_count": 18,
   "metadata": {},
   "outputs": [
    {
     "name": "stdout",
     "output_type": "stream",
     "text": [
      "War\n",
      "History\n",
      "Drama\n",
      "Action\n"
     ]
    }
   ],
   "source": [
    "for i in range(len(film_revenue['genres'])):\n",
    "    print(film_revenue['genres'][i]['name'])"
   ]
  },
  {
   "cell_type": "code",
   "execution_count": 19,
   "metadata": {
    "scrolled": false
   },
   "outputs": [
    {
     "data": {
      "text/plain": [
       "{'adult': False,\n",
       " 'backdrop_path': '/hmNKg4hN2BYftaCJGdKHyETFFki.jpg',\n",
       " 'belongs_to_collection': None,\n",
       " 'budget': 80000000,\n",
       " 'genres': [{'id': 10752, 'name': 'War'},\n",
       "  {'id': 36, 'name': 'History'},\n",
       "  {'id': 18, 'name': 'Drama'},\n",
       "  {'id': 28, 'name': 'Action'}],\n",
       " 'homepage': 'https://cmc-pictures.com/the-eight-hundred/',\n",
       " 'id': 508935,\n",
       " 'imdb_id': 'tt7294150',\n",
       " 'original_language': 'zh',\n",
       " 'original_title': '八佰',\n",
       " 'overview': 'In 1937, eight hundred Chinese soldiers fight under siege from a warehouse in the middle of the Shanghai battlefield, completely surrounded by the Japanese army.',\n",
       " 'popularity': 14.21,\n",
       " 'poster_path': '/2tuJiQQUJNZgEmBgBfNVaYvAnPT.jpg',\n",
       " 'production_companies': [{'id': 112270,\n",
       "   'logo_path': None,\n",
       "   'name': 'Beijing Diqi Yinxiang Entertainment',\n",
       "   'origin_country': ''},\n",
       "  {'id': 3393,\n",
       "   'logo_path': None,\n",
       "   'name': 'Huayi Brothers Pictures',\n",
       "   'origin_country': 'CN'}],\n",
       " 'production_countries': [{'iso_3166_1': 'CN', 'name': 'China'}],\n",
       " 'release_date': '2020-08-14',\n",
       " 'revenue': 460919368,\n",
       " 'runtime': 147,\n",
       " 'spoken_languages': [{'english_name': 'English',\n",
       "   'iso_639_1': 'en',\n",
       "   'name': 'English'},\n",
       "  {'english_name': 'Japanese', 'iso_639_1': 'ja', 'name': '日本語'},\n",
       "  {'english_name': 'Mandarin', 'iso_639_1': 'zh', 'name': '普通话'}],\n",
       " 'status': 'Released',\n",
       " 'tagline': '',\n",
       " 'title': 'The Eight Hundred',\n",
       " 'video': False,\n",
       " 'vote_average': 7.3,\n",
       " 'vote_count': 58}"
      ]
     },
     "execution_count": 19,
     "metadata": {},
     "output_type": "execute_result"
    }
   ],
   "source": [
    "film_revenue"
   ]
  },
  {
   "cell_type": "code",
   "execution_count": null,
   "metadata": {},
   "outputs": [],
   "source": []
  },
  {
   "cell_type": "markdown",
   "metadata": {},
   "source": [
    "### plotting of graph"
   ]
  },
  {
   "cell_type": "markdown",
   "metadata": {},
   "source": [
    "Remove empty column and create a new dataframe called gen to see how many of each genre exists"
   ]
  },
  {
   "cell_type": "code",
   "execution_count": 20,
   "metadata": {
    "scrolled": false
   },
   "outputs": [
    {
     "data": {
      "text/plain": [
       "Text(0.5, 0, 'Number of movies')"
      ]
     },
     "execution_count": 20,
     "metadata": {},
     "output_type": "execute_result"
    },
    {
     "data": {
      "image/png": "[encoded data removed]",
      "text/plain": [
       "<Figure size 936x1080 with 1 Axes>"
      ]
     },
     "metadata": {
      "needs_background": "light"
     },
     "output_type": "display_data"
    }
   ],
   "source": [
    "Genre= pd.Series(df['genre'].str.cat(sep = '|').split(\"|\") )\n",
    "gen = Genre[Genre != '']   #remvoes empty genres\n",
    "gen.value_counts(ascending=True).plot(kind=\"barh\",figsize=(13,15), fontsize=12,color=\"#2E86C1\")\n",
    "\n",
    "\n",
    "plt.title(\"Number of movies released by Genre\", fontsize=18)\n",
    "plt.ylabel(\"Genre\", fontsize=16)\n",
    "plt.xlabel(\"Number of movies\", fontsize=16)"
   ]
  },
  {
   "cell_type": "markdown",
   "metadata": {},
   "source": [
    "# Remove duplicate\n",
    "Creates new dataframe called df_r_g to plot avg rev against genres"
   ]
  },
  {
   "cell_type": "code",
   "execution_count": 21,
   "metadata": {
    "scrolled": false
   },
   "outputs": [],
   "source": [
    "df_r_g = gen.drop_duplicates() #df with only genres\n",
    "df_r_g = pd.DataFrame(data = df_r_g, columns = [\"Genres\"])"
   ]
  },
  {
   "cell_type": "code",
   "execution_count": 22,
   "metadata": {
    "scrolled": false
   },
   "outputs": [
    {
     "data": {
      "text/html": [
       "<div>\n",
       "<style scoped>\n",
       "    .dataframe tbody tr th:only-of-type {\n",
       "        vertical-align: middle;\n",
       "    }\n",
       "\n",
       "    .dataframe tbody tr th {\n",
       "        vertical-align: top;\n",
       "    }\n",
       "\n",
       "    .dataframe thead th {\n",
       "        text-align: right;\n",
       "    }\n",
       "</style>\n",
       "<table border=\"1\" class=\"dataframe\">\n",
       "  <thead>\n",
       "    <tr style=\"text-align: right;\">\n",
       "      <th></th>\n",
       "      <th>Genres</th>\n",
       "    </tr>\n",
       "  </thead>\n",
       "  <tbody>\n",
       "    <tr>\n",
       "      <th>0</th>\n",
       "      <td>War</td>\n",
       "    </tr>\n",
       "    <tr>\n",
       "      <th>1</th>\n",
       "      <td>History</td>\n",
       "    </tr>\n",
       "    <tr>\n",
       "      <th>2</th>\n",
       "      <td>Drama</td>\n",
       "    </tr>\n",
       "    <tr>\n",
       "      <th>3</th>\n",
       "      <td>Action</td>\n",
       "    </tr>\n",
       "    <tr>\n",
       "      <th>4</th>\n",
       "      <td>Music</td>\n",
       "    </tr>\n",
       "    <tr>\n",
       "      <th>5</th>\n",
       "      <td>Thriller</td>\n",
       "    </tr>\n",
       "    <tr>\n",
       "      <th>6</th>\n",
       "      <td>Crime</td>\n",
       "    </tr>\n",
       "    <tr>\n",
       "      <th>7</th>\n",
       "      <td>Animation</td>\n",
       "    </tr>\n",
       "    <tr>\n",
       "      <th>8</th>\n",
       "      <td>Adventure</td>\n",
       "    </tr>\n",
       "    <tr>\n",
       "      <th>9</th>\n",
       "      <td>Fantasy</td>\n",
       "    </tr>\n",
       "    <tr>\n",
       "      <th>10</th>\n",
       "      <td>Science Fiction</td>\n",
       "    </tr>\n",
       "    <tr>\n",
       "      <th>11</th>\n",
       "      <td>Comedy</td>\n",
       "    </tr>\n",
       "    <tr>\n",
       "      <th>12</th>\n",
       "      <td>Family</td>\n",
       "    </tr>\n",
       "    <tr>\n",
       "      <th>13</th>\n",
       "      <td>Horror</td>\n",
       "    </tr>\n",
       "    <tr>\n",
       "      <th>14</th>\n",
       "      <td>Mystery</td>\n",
       "    </tr>\n",
       "  </tbody>\n",
       "</table>\n",
       "</div>"
      ],
      "text/plain": [
       "             Genres\n",
       "0               War\n",
       "1           History\n",
       "2             Drama\n",
       "3            Action\n",
       "4             Music\n",
       "5          Thriller\n",
       "6             Crime\n",
       "7         Animation\n",
       "8         Adventure\n",
       "9           Fantasy\n",
       "10  Science Fiction\n",
       "11           Comedy\n",
       "12           Family\n",
       "13           Horror\n",
       "14          Mystery"
      ]
     },
     "execution_count": 22,
     "metadata": {},
     "output_type": "execute_result"
    }
   ],
   "source": [
    "df_r_g.reset_index(drop = True,inplace = True)\n",
    "df_r_g"
   ]
  },
  {
   "cell_type": "markdown",
   "metadata": {},
   "source": [
    "There are 15 genres"
   ]
  },
  {
   "cell_type": "markdown",
   "metadata": {},
   "source": [
    "### Getting average revenue of each genre"
   ]
  },
  {
   "cell_type": "markdown",
   "metadata": {},
   "source": [
    "Test of sub string in string"
   ]
  },
  {
   "cell_type": "code",
   "execution_count": 23,
   "metadata": {},
   "outputs": [
    {
     "name": "stdout",
     "output_type": "stream",
     "text": [
      "War\n",
      "A\n",
      "History\n",
      "A\n",
      "Drama\n",
      "A\n",
      "Action\n",
      "A\n",
      "Music\n",
      "Thriller\n",
      "Crime\n",
      "Animation\n",
      "Adventure\n",
      "Fantasy\n",
      "Science Fiction\n",
      "Comedy\n",
      "Family\n",
      "Horror\n",
      "Mystery\n",
      "|War|History|Drama|Action\n"
     ]
    }
   ],
   "source": [
    "Rev = {}\n",
    "for i in df_r_g.Genres :  #Rev list\n",
    "    Rev[i] = 0\n",
    "\n",
    "for i in Rev.keys():\n",
    "    print(i)\n",
    "    if i in df.genre[0]:\n",
    "        print(\"A\")\n",
    "    \n",
    "\n",
    "\n",
    "print(df.genre[0])"
   ]
  },
  {
   "cell_type": "markdown",
   "metadata": {},
   "source": [
    "#### Total Revenue of each genre"
   ]
  },
  {
   "cell_type": "code",
   "execution_count": 24,
   "metadata": {},
   "outputs": [
    {
     "data": {
      "text/plain": [
       "{'War': 559919368,\n",
       " 'History': 460919368,\n",
       " 'Drama': 1036703994,\n",
       " 'Action': 2627547611,\n",
       " 'Music': 426900000,\n",
       " 'Thriller': 919868905,\n",
       " 'Crime': 628363705,\n",
       " 'Animation': 916504517,\n",
       " 'Adventure': 1294258060,\n",
       " 'Fantasy': 1390729524,\n",
       " 'Science Fiction': 869130131,\n",
       " 'Comedy': 583434919,\n",
       " 'Family': 936731552,\n",
       " 'Horror': 130234661,\n",
       " 'Mystery': 69000000}"
      ]
     },
     "execution_count": 24,
     "metadata": {},
     "output_type": "execute_result"
    }
   ],
   "source": [
    "for i in range(len(Rev)+1) :\n",
    "    for j in Rev.keys():\n",
    "        if j in df.genre[i] :     # if eg. war in war|history|etc\n",
    "            Rev[j] += df.revenue[i]   # add revenue\n",
    "            \n",
    "        \n",
    "Rev"
   ]
  },
  {
   "cell_type": "markdown",
   "metadata": {},
   "source": [
    "#### Average Revenue"
   ]
  },
  {
   "cell_type": "code",
   "execution_count": 25,
   "metadata": {},
   "outputs": [
    {
     "name": "stdout",
     "output_type": "stream",
     "text": [
      "Action             10\n",
      "Fantasy             9\n",
      "Family              7\n",
      "Adventure           7\n",
      "Drama               6\n",
      "Animation           5\n",
      "Comedy              5\n",
      "Science Fiction     4\n",
      "Thriller            3\n",
      "War                 2\n",
      "Crime               2\n",
      "Music               2\n",
      "History             1\n",
      "Mystery             1\n",
      "Horror              1\n",
      "dtype: int64\n"
     ]
    },
    {
     "data": {
      "text/plain": [
       "{'War': 279959684,\n",
       " 'History': 460919368,\n",
       " 'Drama': 172783999,\n",
       " 'Action': 262754761,\n",
       " 'Music': 213450000,\n",
       " 'Thriller': 306622968,\n",
       " 'Crime': 314181852,\n",
       " 'Animation': 183300903,\n",
       " 'Adventure': 184894008,\n",
       " 'Fantasy': 154525502,\n",
       " 'Science Fiction': 217282532,\n",
       " 'Comedy': 116686983,\n",
       " 'Family': 133818793,\n",
       " 'Horror': 130234661,\n",
       " 'Mystery': 69000000}"
      ]
     },
     "execution_count": 25,
     "metadata": {},
     "output_type": "execute_result"
    }
   ],
   "source": [
    "# divide Total Revenue of each genre by the number of movies\n",
    "print(gen.value_counts())\n",
    "\n",
    "\n",
    "for i in Rev.keys():\n",
    "    k = gen.value_counts()[i]\n",
    "    Rev[i] = int(Rev[i]/k)\n",
    "\n",
    "\n",
    "Rev"
   ]
  },
  {
   "cell_type": "markdown",
   "metadata": {},
   "source": [
    "This show the average revenue per movie EG : 3 movies with 'War', Add revenue of these 3 movies then divide by 3"
   ]
  },
  {
   "cell_type": "code",
   "execution_count": 26,
   "metadata": {},
   "outputs": [],
   "source": [
    "df_r_g['AvgRev'] = df_r_g['Genres'].map(Rev)\n",
    "df_r_g = df_r_g.sort_values(by='AvgRev',ascending = False)"
   ]
  },
  {
   "cell_type": "code",
   "execution_count": 27,
   "metadata": {},
   "outputs": [
    {
     "data": {
      "text/html": [
       "<div>\n",
       "<style scoped>\n",
       "    .dataframe tbody tr th:only-of-type {\n",
       "        vertical-align: middle;\n",
       "    }\n",
       "\n",
       "    .dataframe tbody tr th {\n",
       "        vertical-align: top;\n",
       "    }\n",
       "\n",
       "    .dataframe thead th {\n",
       "        text-align: right;\n",
       "    }\n",
       "</style>\n",
       "<table border=\"1\" class=\"dataframe\">\n",
       "  <thead>\n",
       "    <tr style=\"text-align: right;\">\n",
       "      <th></th>\n",
       "      <th>Genres</th>\n",
       "      <th>AvgRev</th>\n",
       "    </tr>\n",
       "  </thead>\n",
       "  <tbody>\n",
       "    <tr>\n",
       "      <th>1</th>\n",
       "      <td>History</td>\n",
       "      <td>460919368</td>\n",
       "    </tr>\n",
       "    <tr>\n",
       "      <th>6</th>\n",
       "      <td>Crime</td>\n",
       "      <td>314181852</td>\n",
       "    </tr>\n",
       "    <tr>\n",
       "      <th>5</th>\n",
       "      <td>Thriller</td>\n",
       "      <td>306622968</td>\n",
       "    </tr>\n",
       "    <tr>\n",
       "      <th>0</th>\n",
       "      <td>War</td>\n",
       "      <td>279959684</td>\n",
       "    </tr>\n",
       "    <tr>\n",
       "      <th>3</th>\n",
       "      <td>Action</td>\n",
       "      <td>262754761</td>\n",
       "    </tr>\n",
       "    <tr>\n",
       "      <th>10</th>\n",
       "      <td>Science Fiction</td>\n",
       "      <td>217282532</td>\n",
       "    </tr>\n",
       "    <tr>\n",
       "      <th>4</th>\n",
       "      <td>Music</td>\n",
       "      <td>213450000</td>\n",
       "    </tr>\n",
       "    <tr>\n",
       "      <th>8</th>\n",
       "      <td>Adventure</td>\n",
       "      <td>184894008</td>\n",
       "    </tr>\n",
       "    <tr>\n",
       "      <th>7</th>\n",
       "      <td>Animation</td>\n",
       "      <td>183300903</td>\n",
       "    </tr>\n",
       "    <tr>\n",
       "      <th>2</th>\n",
       "      <td>Drama</td>\n",
       "      <td>172783999</td>\n",
       "    </tr>\n",
       "    <tr>\n",
       "      <th>9</th>\n",
       "      <td>Fantasy</td>\n",
       "      <td>154525502</td>\n",
       "    </tr>\n",
       "    <tr>\n",
       "      <th>12</th>\n",
       "      <td>Family</td>\n",
       "      <td>133818793</td>\n",
       "    </tr>\n",
       "    <tr>\n",
       "      <th>13</th>\n",
       "      <td>Horror</td>\n",
       "      <td>130234661</td>\n",
       "    </tr>\n",
       "    <tr>\n",
       "      <th>11</th>\n",
       "      <td>Comedy</td>\n",
       "      <td>116686983</td>\n",
       "    </tr>\n",
       "    <tr>\n",
       "      <th>14</th>\n",
       "      <td>Mystery</td>\n",
       "      <td>69000000</td>\n",
       "    </tr>\n",
       "  </tbody>\n",
       "</table>\n",
       "</div>"
      ],
      "text/plain": [
       "             Genres     AvgRev\n",
       "1           History  460919368\n",
       "6             Crime  314181852\n",
       "5          Thriller  306622968\n",
       "0               War  279959684\n",
       "3            Action  262754761\n",
       "10  Science Fiction  217282532\n",
       "4             Music  213450000\n",
       "8         Adventure  184894008\n",
       "7         Animation  183300903\n",
       "2             Drama  172783999\n",
       "9           Fantasy  154525502\n",
       "12           Family  133818793\n",
       "13           Horror  130234661\n",
       "11           Comedy  116686983\n",
       "14          Mystery   69000000"
      ]
     },
     "execution_count": 27,
     "metadata": {},
     "output_type": "execute_result"
    }
   ],
   "source": [
    "df_r_g"
   ]
  },
  {
   "cell_type": "markdown",
   "metadata": {},
   "source": [
    "#### Adding number of movies for each genre to df_r_g"
   ]
  },
  {
   "cell_type": "code",
   "execution_count": 28,
   "metadata": {},
   "outputs": [],
   "source": [
    "no_movies = []\n",
    "for i in df_r_g['Genres'] :\n",
    "    no_movies.append(gen.value_counts()[i])"
   ]
  },
  {
   "cell_type": "code",
   "execution_count": 29,
   "metadata": {},
   "outputs": [
    {
     "data": {
      "text/html": [
       "<div>\n",
       "<style scoped>\n",
       "    .dataframe tbody tr th:only-of-type {\n",
       "        vertical-align: middle;\n",
       "    }\n",
       "\n",
       "    .dataframe tbody tr th {\n",
       "        vertical-align: top;\n",
       "    }\n",
       "\n",
       "    .dataframe thead th {\n",
       "        text-align: right;\n",
       "    }\n",
       "</style>\n",
       "<table border=\"1\" class=\"dataframe\">\n",
       "  <thead>\n",
       "    <tr style=\"text-align: right;\">\n",
       "      <th></th>\n",
       "      <th>Genres</th>\n",
       "      <th>AvgRev</th>\n",
       "      <th>no_movies</th>\n",
       "    </tr>\n",
       "  </thead>\n",
       "  <tbody>\n",
       "    <tr>\n",
       "      <th>1</th>\n",
       "      <td>History</td>\n",
       "      <td>460919368</td>\n",
       "      <td>1</td>\n",
       "    </tr>\n",
       "    <tr>\n",
       "      <th>6</th>\n",
       "      <td>Crime</td>\n",
       "      <td>314181852</td>\n",
       "      <td>2</td>\n",
       "    </tr>\n",
       "    <tr>\n",
       "      <th>5</th>\n",
       "      <td>Thriller</td>\n",
       "      <td>306622968</td>\n",
       "      <td>3</td>\n",
       "    </tr>\n",
       "    <tr>\n",
       "      <th>0</th>\n",
       "      <td>War</td>\n",
       "      <td>279959684</td>\n",
       "      <td>2</td>\n",
       "    </tr>\n",
       "    <tr>\n",
       "      <th>3</th>\n",
       "      <td>Action</td>\n",
       "      <td>262754761</td>\n",
       "      <td>10</td>\n",
       "    </tr>\n",
       "    <tr>\n",
       "      <th>10</th>\n",
       "      <td>Science Fiction</td>\n",
       "      <td>217282532</td>\n",
       "      <td>4</td>\n",
       "    </tr>\n",
       "    <tr>\n",
       "      <th>4</th>\n",
       "      <td>Music</td>\n",
       "      <td>213450000</td>\n",
       "      <td>2</td>\n",
       "    </tr>\n",
       "    <tr>\n",
       "      <th>8</th>\n",
       "      <td>Adventure</td>\n",
       "      <td>184894008</td>\n",
       "      <td>7</td>\n",
       "    </tr>\n",
       "    <tr>\n",
       "      <th>7</th>\n",
       "      <td>Animation</td>\n",
       "      <td>183300903</td>\n",
       "      <td>5</td>\n",
       "    </tr>\n",
       "    <tr>\n",
       "      <th>2</th>\n",
       "      <td>Drama</td>\n",
       "      <td>172783999</td>\n",
       "      <td>6</td>\n",
       "    </tr>\n",
       "    <tr>\n",
       "      <th>9</th>\n",
       "      <td>Fantasy</td>\n",
       "      <td>154525502</td>\n",
       "      <td>9</td>\n",
       "    </tr>\n",
       "    <tr>\n",
       "      <th>12</th>\n",
       "      <td>Family</td>\n",
       "      <td>133818793</td>\n",
       "      <td>7</td>\n",
       "    </tr>\n",
       "    <tr>\n",
       "      <th>13</th>\n",
       "      <td>Horror</td>\n",
       "      <td>130234661</td>\n",
       "      <td>1</td>\n",
       "    </tr>\n",
       "    <tr>\n",
       "      <th>11</th>\n",
       "      <td>Comedy</td>\n",
       "      <td>116686983</td>\n",
       "      <td>5</td>\n",
       "    </tr>\n",
       "    <tr>\n",
       "      <th>14</th>\n",
       "      <td>Mystery</td>\n",
       "      <td>69000000</td>\n",
       "      <td>1</td>\n",
       "    </tr>\n",
       "  </tbody>\n",
       "</table>\n",
       "</div>"
      ],
      "text/plain": [
       "             Genres     AvgRev  no_movies\n",
       "1           History  460919368          1\n",
       "6             Crime  314181852          2\n",
       "5          Thriller  306622968          3\n",
       "0               War  279959684          2\n",
       "3            Action  262754761         10\n",
       "10  Science Fiction  217282532          4\n",
       "4             Music  213450000          2\n",
       "8         Adventure  184894008          7\n",
       "7         Animation  183300903          5\n",
       "2             Drama  172783999          6\n",
       "9           Fantasy  154525502          9\n",
       "12           Family  133818793          7\n",
       "13           Horror  130234661          1\n",
       "11           Comedy  116686983          5\n",
       "14          Mystery   69000000          1"
      ]
     },
     "execution_count": 29,
     "metadata": {},
     "output_type": "execute_result"
    }
   ],
   "source": [
    "df_r_g['no_movies'] = no_movies\n",
    "df_r_g"
   ]
  },
  {
   "cell_type": "code",
   "execution_count": 30,
   "metadata": {},
   "outputs": [
    {
     "data": {
      "text/plain": [
       "Text(0, 0.5, 'Genres')"
      ]
     },
     "execution_count": 30,
     "metadata": {},
     "output_type": "execute_result"
    },
    {
     "data": {
      "image/png": "[encoded data removed]",
      "text/plain": [
       "<Figure size 1296x1440 with 1 Axes>"
      ]
     },
     "metadata": {
      "needs_background": "light"
     },
     "output_type": "display_data"
    }
   ],
   "source": [
    "# Draw the Boxplots of all variables\n",
    "f = plt.figure(figsize=(18, 20))\n",
    "sb.barplot(x = \"AvgRev\", y = \"Genres\", data = df_r_g, color=\"#2E86C1\")\n",
    "plt.title(\"Average Revenue against Genre\", fontsize=18)\n",
    "plt.xlabel(\"Revenue(*10^8)\", fontsize=16)\n",
    "plt.ylabel(\"Genres\", fontsize=16)"
   ]
  },
  {
   "cell_type": "code",
   "execution_count": 31,
   "metadata": {},
   "outputs": [
    {
     "data": {
      "text/plain": [
       "Text(0, 0.5, 'Genres')"
      ]
     },
     "execution_count": 31,
     "metadata": {},
     "output_type": "execute_result"
    },
    {
     "data": {
      "image/png": "[encoded data removed]",
      "text/plain": [
       "<Figure size 1296x1440 with 1 Axes>"
      ]
     },
     "metadata": {
      "needs_background": "light"
     },
     "output_type": "display_data"
    }
   ],
   "source": [
    "# Draw the Boxplots of all variables\n",
    "f = plt.figure(figsize=(18, 20))\n",
    "sb.barplot(x = \"no_movies\", y = \"Genres\", data = df_r_g, color=\"#2E86C1\")\n",
    "plt.title(\"No of Movies against Genre\", fontsize=18)\n",
    "plt.xlabel(\"No_of_movies\", fontsize=16)\n",
    "plt.ylabel(\"Genres\", fontsize=16)"
   ]
  },
  {
   "cell_type": "markdown",
   "metadata": {},
   "source": [
    "From the 2 plots above, films that include the action genre tend to get more revenue than the others. As the top 4 genres of History to War does not have many movies, it is not an accurate depiction of what it would be if other films adopted those genres. However, films of action genres are relatively many and their average revenue is still pretty high hence action would be the best genre to add in films"
   ]
  },
  {
   "cell_type": "code",
   "execution_count": null,
   "metadata": {},
   "outputs": [],
   "source": []
  },
  {
   "cell_type": "code",
   "execution_count": 32,
   "metadata": {},
   "outputs": [
    {
     "data": {
      "text/plain": [
       "Text(0, 0.5, 'Movies')"
      ]
     },
     "execution_count": 32,
     "metadata": {},
     "output_type": "execute_result"
    },
    {
     "data": {
      "image/png": "[encoded data removed]",
      "text/plain": [
       "<Figure size 936x720 with 1 Axes>"
      ]
     },
     "metadata": {
      "needs_background": "light"
     },
     "output_type": "display_data"
    }
   ],
   "source": [
    "# Draw the Boxplots of all variables\n",
    "f,ax = plt.subplots(figsize=(13, 10))\n",
    "sb.barplot(y = \"film\", x = \"no_of_genres\", data = df, color=\"#2E86C1\")\n",
    "\n",
    "avg_no_gen = int(df['no_of_genres'].mean())\n",
    "\n",
    "ax.axvline(x=avg_no_gen, color='b', label='Average', linestyle='--', linewidth=1)\n",
    "\n",
    "plt.title(\"How many genres per film\", fontsize=18)\n",
    "plt.xlabel(\"Genres\", fontsize=16)\n",
    "plt.ylabel(\"Movies\", fontsize=16)"
   ]
  },
  {
   "cell_type": "markdown",
   "metadata": {},
   "source": [
    "So the average number of genres per film would be around 3. From the bar plot above, apart from Metallica Tour, in general, most films with at least 3 genres tend to fair better than those with 2 or less genres."
   ]
  },
  {
   "cell_type": "markdown",
   "metadata": {},
   "source": [
    "### Analysis of no of genre and revenue"
   ]
  },
  {
   "cell_type": "code",
   "execution_count": 33,
   "metadata": {},
   "outputs": [
    {
     "data": {
      "text/plain": [
       "<seaborn.axisgrid.JointGrid at 0x26b6900c9a0>"
      ]
     },
     "execution_count": 33,
     "metadata": {},
     "output_type": "execute_result"
    },
    {
     "data": {
      "image/png": "[encoded data removed]",
      "text/plain": [
       "<Figure size 432x432 with 3 Axes>"
      ]
     },
     "metadata": {
      "needs_background": "light"
     },
     "output_type": "display_data"
    }
   ],
   "source": [
    "sb.jointplot(data = df, x = \"no_of_genres\", y = \"revenue\", height = 6)"
   ]
  },
  {
   "cell_type": "code",
   "execution_count": 34,
   "metadata": {},
   "outputs": [],
   "source": [
    "# Import LinearRegression model from Scikit-Learn\n",
    "from sklearn.linear_model import LinearRegression\n",
    "\n",
    "# Create a Linear Regression object\n",
    "linreg = LinearRegression()"
   ]
  },
  {
   "cell_type": "code",
   "execution_count": 35,
   "metadata": {},
   "outputs": [],
   "source": [
    "# Extract Response and Predictors\n",
    "y = pd.DataFrame(df['revenue'])\n",
    "x = pd.DataFrame(df['no_of_genres'])"
   ]
  },
  {
   "cell_type": "code",
   "execution_count": 36,
   "metadata": {},
   "outputs": [
    {
     "data": {
      "text/plain": [
       "LinearRegression()"
      ]
     },
     "execution_count": 36,
     "metadata": {},
     "output_type": "execute_result"
    }
   ],
   "source": [
    "linreg.fit(x, y)"
   ]
  },
  {
   "cell_type": "code",
   "execution_count": 37,
   "metadata": {},
   "outputs": [
    {
     "name": "stdout",
     "output_type": "stream",
     "text": [
      "Intercept \t: b =  [1.98059666e+08]\n",
      "Coefficients \t: a =  [[2566776.37086093]]\n"
     ]
    }
   ],
   "source": [
    "print('Intercept \\t: b = ', linreg.intercept_)\n",
    "print('Coefficients \\t: a = ', linreg.coef_)"
   ]
  },
  {
   "cell_type": "code",
   "execution_count": 38,
   "metadata": {},
   "outputs": [
    {
     "data": {
      "image/png": "[encoded data removed]",
      "text/plain": [
       "<Figure size 1152x576 with 1 Axes>"
      ]
     },
     "metadata": {
      "needs_background": "light"
     },
     "output_type": "display_data"
    }
   ],
   "source": [
    "# Formula for the Regression line\n",
    "regline_x = x\n",
    "regline_y = linreg.intercept_ + linreg.coef_ * x\n",
    "\n",
    "# Plot the Linear Regression line\n",
    "f, axes = plt.subplots(1, 1, figsize=(16, 8))\n",
    "plt.scatter(x, y)\n",
    "plt.plot(regline_x, regline_y, 'r-', linewidth = 3)\n",
    "plt.show()"
   ]
  },
  {
   "cell_type": "markdown",
   "metadata": {},
   "source": [
    "From the these plots, it goes to show that more genres doesnt mean higher revenue, and the optimal number of genres per film should be around 2 to 3"
   ]
  },
  {
   "cell_type": "code",
   "execution_count": null,
   "metadata": {},
   "outputs": [],
   "source": []
  },
  {
   "cell_type": "markdown",
   "metadata": {},
   "source": [
    "## 5) Analysis of Action Movies"
   ]
  },
  {
   "cell_type": "markdown",
   "metadata": {},
   "source": [
    "As stated previously, action films are the best genres as they have proven to earn the highest revenue on average"
   ]
  },
  {
   "cell_type": "code",
   "execution_count": 39,
   "metadata": {},
   "outputs": [
    {
     "data": {
      "text/html": [
       "<div>\n",
       "<style scoped>\n",
       "    .dataframe tbody tr th:only-of-type {\n",
       "        vertical-align: middle;\n",
       "    }\n",
       "\n",
       "    .dataframe tbody tr th {\n",
       "        vertical-align: top;\n",
       "    }\n",
       "\n",
       "    .dataframe thead th {\n",
       "        text-align: right;\n",
       "    }\n",
       "</style>\n",
       "<table border=\"1\" class=\"dataframe\">\n",
       "  <thead>\n",
       "    <tr style=\"text-align: right;\">\n",
       "      <th></th>\n",
       "      <th>revenue</th>\n",
       "    </tr>\n",
       "  </thead>\n",
       "  <tbody>\n",
       "    <tr>\n",
       "      <th>0</th>\n",
       "      <td>460919368</td>\n",
       "    </tr>\n",
       "    <tr>\n",
       "      <th>1</th>\n",
       "      <td>426505244</td>\n",
       "    </tr>\n",
       "    <tr>\n",
       "      <th>2</th>\n",
       "      <td>399180000</td>\n",
       "    </tr>\n",
       "    <tr>\n",
       "      <th>3</th>\n",
       "      <td>363129000</td>\n",
       "    </tr>\n",
       "    <tr>\n",
       "      <th>4</th>\n",
       "      <td>306766470</td>\n",
       "    </tr>\n",
       "    <tr>\n",
       "      <th>5</th>\n",
       "      <td>240656068</td>\n",
       "    </tr>\n",
       "    <tr>\n",
       "      <th>6</th>\n",
       "      <td>201858461</td>\n",
       "    </tr>\n",
       "    <tr>\n",
       "      <th>7</th>\n",
       "      <td>159533000</td>\n",
       "    </tr>\n",
       "    <tr>\n",
       "      <th>8</th>\n",
       "      <td>69000000</td>\n",
       "    </tr>\n",
       "    <tr>\n",
       "      <th>9</th>\n",
       "      <td>47800000</td>\n",
       "    </tr>\n",
       "  </tbody>\n",
       "</table>\n",
       "</div>"
      ],
      "text/plain": [
       "     revenue\n",
       "0  460919368\n",
       "1  426505244\n",
       "2  399180000\n",
       "3  363129000\n",
       "4  306766470\n",
       "5  240656068\n",
       "6  201858461\n",
       "7  159533000\n",
       "8   69000000\n",
       "9   47800000"
      ]
     },
     "execution_count": 39,
     "metadata": {},
     "output_type": "execute_result"
    }
   ],
   "source": [
    "# create dataframe with film and revenue columns\n",
    "\n",
    "act_df = pd.DataFrame(columns = ['revenue'])\n",
    "for i in df['genre']:\n",
    "    if 'Action' in i:\n",
    "        #print(df[df['genre']==i]['revenue'].item())\n",
    "        act_df.loc[len(act_df)]=[df[df['genre']==i]['revenue'].astype(int).item()] # store title and revenue in our dataframe\n",
    "\n",
    "act_df"
   ]
  },
  {
   "cell_type": "markdown",
   "metadata": {},
   "source": [
    "### These are the revenue figures for films that include action"
   ]
  },
  {
   "cell_type": "code",
   "execution_count": 40,
   "metadata": {},
   "outputs": [
    {
     "data": {
      "text/plain": [
       "<AxesSubplot:>"
      ]
     },
     "execution_count": 40,
     "metadata": {},
     "output_type": "execute_result"
    },
    {
     "data": {
      "image/png": "[encoded data removed]",
      "text/plain": [
       "<Figure size 1728x576 with 1 Axes>"
      ]
     },
     "metadata": {
      "needs_background": "light"
     },
     "output_type": "display_data"
    }
   ],
   "source": [
    "f = plt.figure(figsize=(24, 8))\n",
    "sb.boxplot(data = act_df, orient = \"h\")"
   ]
  },
  {
   "cell_type": "code",
   "execution_count": 41,
   "metadata": {},
   "outputs": [
    {
     "data": {
      "text/plain": [
       "<AxesSubplot:>"
      ]
     },
     "execution_count": 41,
     "metadata": {},
     "output_type": "execute_result"
    },
    {
     "data": {
      "image/png": "[encoded data removed]",
      "text/plain": [
       "<Figure size 1728x864 with 1 Axes>"
      ]
     },
     "metadata": {
      "needs_background": "light"
     },
     "output_type": "display_data"
    }
   ],
   "source": [
    "f = plt.figure(figsize=(24, 12))\n",
    "sb.violinplot(data = act_df)"
   ]
  },
  {
   "cell_type": "markdown",
   "metadata": {},
   "source": [
    "As can be seen from the 2 plots, the distribution of action movies give rise to on average between 170mil to about 400mil of revenue"
   ]
  },
  {
   "cell_type": "markdown",
   "metadata": {
    "scrolled": false
   },
   "source": [
    "## 5) Analysis of the past 5 Years"
   ]
  },
  {
   "cell_type": "code",
   "execution_count": 42,
   "metadata": {
    "scrolled": false
   },
   "outputs": [
    {
     "data": {
      "text/html": [
       "<div>\n",
       "<style scoped>\n",
       "    .dataframe tbody tr th:only-of-type {\n",
       "        vertical-align: middle;\n",
       "    }\n",
       "\n",
       "    .dataframe tbody tr th {\n",
       "        vertical-align: top;\n",
       "    }\n",
       "\n",
       "    .dataframe thead th {\n",
       "        text-align: right;\n",
       "    }\n",
       "</style>\n",
       "<table border=\"1\" class=\"dataframe\">\n",
       "  <thead>\n",
       "    <tr style=\"text-align: right;\">\n",
       "      <th></th>\n",
       "      <th>popularity</th>\n",
       "      <th>release-date</th>\n",
       "      <th>vote count</th>\n",
       "      <th>id</th>\n",
       "      <th>adult</th>\n",
       "      <th>original_title</th>\n",
       "      <th>genre_ids</th>\n",
       "    </tr>\n",
       "  </thead>\n",
       "  <tbody>\n",
       "    <tr>\n",
       "      <th>0</th>\n",
       "      <td>113.809</td>\n",
       "      <td>2016-04-27</td>\n",
       "      <td>17707</td>\n",
       "      <td>271110</td>\n",
       "      <td>False</td>\n",
       "      <td>Captain America: Civil War</td>\n",
       "      <td>[12, 28, 878]</td>\n",
       "    </tr>\n",
       "  </tbody>\n",
       "</table>\n",
       "</div>"
      ],
      "text/plain": [
       "   popularity release-date  vote count      id  adult  \\\n",
       "0     113.809   2016-04-27       17707  271110  False   \n",
       "\n",
       "               original_title      genre_ids  \n",
       "0  Captain America: Civil War  [12, 28, 878]  "
      ]
     },
     "execution_count": 42,
     "metadata": {},
     "output_type": "execute_result"
    }
   ],
   "source": [
    "api_key = 'aaa47fdcde4f3ddc7519fb20b452e47c'\n",
    "\n",
    "response2016 = requests.get('https://api.themoviedb.org/3/discover/movie?api_key=' +  api_key + '&primary_release_year=2016&sort_by=revenue.desc')\n",
    "result2016 = response2016.json()\n",
    "titles2016 = result2016['results']\n",
    "\n",
    "new_dict = {}\n",
    "\n",
    "for i in range(len(titles2016)) :\n",
    "    new_dict[i] = [titles2016[i]['popularity'], titles2016[i]['release_date'], titles2016[i]['vote_count'], titles2016[i]['id'], titles2016[i]['adult'], titles2016[i]['original_title'], titles2016[i]['genre_ids']]\n",
    "    \n",
    "data2016 = pd.DataFrame.from_dict(new_dict, orient = 'index', columns = ['popularity', 'release-date', 'vote count','id', 'adult', 'original_title', 'genre_ids'])\n",
    "columns = ['popularity', 'release-date','vote count', 'id', 'adult', 'original_title', 'genre_ids']\n",
    "data2016.head(1)"
   ]
  },
  {
   "cell_type": "code",
   "execution_count": 43,
   "metadata": {},
   "outputs": [
    {
     "data": {
      "text/html": [
       "<div>\n",
       "<style scoped>\n",
       "    .dataframe tbody tr th:only-of-type {\n",
       "        vertical-align: middle;\n",
       "    }\n",
       "\n",
       "    .dataframe tbody tr th {\n",
       "        vertical-align: top;\n",
       "    }\n",
       "\n",
       "    .dataframe thead th {\n",
       "        text-align: right;\n",
       "    }\n",
       "</style>\n",
       "<table border=\"1\" class=\"dataframe\">\n",
       "  <thead>\n",
       "    <tr style=\"text-align: right;\">\n",
       "      <th></th>\n",
       "      <th>popularity</th>\n",
       "      <th>release-date</th>\n",
       "      <th>vote count</th>\n",
       "      <th>id</th>\n",
       "      <th>adult</th>\n",
       "      <th>original_title</th>\n",
       "      <th>genre_ids</th>\n",
       "    </tr>\n",
       "  </thead>\n",
       "  <tbody>\n",
       "    <tr>\n",
       "      <th>0</th>\n",
       "      <td>65.159</td>\n",
       "      <td>2017-12-13</td>\n",
       "      <td>11743</td>\n",
       "      <td>181808</td>\n",
       "      <td>False</td>\n",
       "      <td>Star Wars: The Last Jedi</td>\n",
       "      <td>[878, 28, 12]</td>\n",
       "    </tr>\n",
       "  </tbody>\n",
       "</table>\n",
       "</div>"
      ],
      "text/plain": [
       "   popularity release-date  vote count      id  adult  \\\n",
       "0      65.159   2017-12-13       11743  181808  False   \n",
       "\n",
       "             original_title      genre_ids  \n",
       "0  Star Wars: The Last Jedi  [878, 28, 12]  "
      ]
     },
     "execution_count": 43,
     "metadata": {},
     "output_type": "execute_result"
    }
   ],
   "source": [
    "response2017 = requests.get('https://api.themoviedb.org/3/discover/movie?api_key=' +  api_key + '&primary_release_year=2017&sort_by=revenue.desc')\n",
    "result2017 = response2017.json()\n",
    "titles2017 = result2017['results']\n",
    "\n",
    "new_dict = {}\n",
    "\n",
    "for i in range(len(titles2017)) :\n",
    "    new_dict[i] = [titles2017[i]['popularity'], titles2017[i]['release_date'], titles2017[i]['vote_count'], titles2017[i]['id'], titles2017[i]['adult'], titles2017[i]['original_title'], titles2017[i]['genre_ids']]  \n",
    "data2017 = pd.DataFrame.from_dict(new_dict, orient = 'index', columns = ['popularity', 'release-date', 'vote count','id', 'adult', 'original_title', 'genre_ids'])\n",
    "columns = ['popularity', 'release-date','vote count', 'id', 'adult', 'original_title', 'genre_ids']\n",
    "data2017.head(1)"
   ]
  },
  {
   "cell_type": "code",
   "execution_count": 44,
   "metadata": {},
   "outputs": [
    {
     "data": {
      "text/html": [
       "<div>\n",
       "<style scoped>\n",
       "    .dataframe tbody tr th:only-of-type {\n",
       "        vertical-align: middle;\n",
       "    }\n",
       "\n",
       "    .dataframe tbody tr th {\n",
       "        vertical-align: top;\n",
       "    }\n",
       "\n",
       "    .dataframe thead th {\n",
       "        text-align: right;\n",
       "    }\n",
       "</style>\n",
       "<table border=\"1\" class=\"dataframe\">\n",
       "  <thead>\n",
       "    <tr style=\"text-align: right;\">\n",
       "      <th></th>\n",
       "      <th>popularity</th>\n",
       "      <th>release-date</th>\n",
       "      <th>vote count</th>\n",
       "      <th>id</th>\n",
       "      <th>adult</th>\n",
       "      <th>original_title</th>\n",
       "      <th>genre_ids</th>\n",
       "    </tr>\n",
       "  </thead>\n",
       "  <tbody>\n",
       "    <tr>\n",
       "      <th>0</th>\n",
       "      <td>306.754</td>\n",
       "      <td>2018-04-25</td>\n",
       "      <td>21312</td>\n",
       "      <td>299536</td>\n",
       "      <td>False</td>\n",
       "      <td>Avengers: Infinity War</td>\n",
       "      <td>[12, 28, 878]</td>\n",
       "    </tr>\n",
       "  </tbody>\n",
       "</table>\n",
       "</div>"
      ],
      "text/plain": [
       "   popularity release-date  vote count      id  adult          original_title  \\\n",
       "0     306.754   2018-04-25       21312  299536  False  Avengers: Infinity War   \n",
       "\n",
       "       genre_ids  \n",
       "0  [12, 28, 878]  "
      ]
     },
     "execution_count": 44,
     "metadata": {},
     "output_type": "execute_result"
    }
   ],
   "source": [
    "response2018 = requests.get('https://api.themoviedb.org/3/discover/movie?api_key=' +  api_key + '&primary_release_year=2018&sort_by=revenue.desc')\n",
    "result2018 = response2018.json()\n",
    "titles2018 = result2018['results']\n",
    "\n",
    "new_dict = {}\n",
    "\n",
    "for i in range(len(titles2018)) :\n",
    "    new_dict[i] = [titles2018[i]['popularity'], titles2018[i]['release_date'], titles2018[i]['vote_count'], titles2018[i]['id'], titles2018[i]['adult'], titles2018[i]['original_title'], titles2018[i]['genre_ids']]  \n",
    "data2018 = pd.DataFrame.from_dict(new_dict, orient = 'index', columns = ['popularity', 'release-date', 'vote count','id', 'adult', 'original_title', 'genre_ids'])\n",
    "columns = ['popularity', 'release-date','vote count', 'id', 'adult', 'original_title', 'genre_ids']\n",
    "data2018.head(1)"
   ]
  },
  {
   "cell_type": "code",
   "execution_count": 45,
   "metadata": {},
   "outputs": [
    {
     "data": {
      "text/html": [
       "<div>\n",
       "<style scoped>\n",
       "    .dataframe tbody tr th:only-of-type {\n",
       "        vertical-align: middle;\n",
       "    }\n",
       "\n",
       "    .dataframe tbody tr th {\n",
       "        vertical-align: top;\n",
       "    }\n",
       "\n",
       "    .dataframe thead th {\n",
       "        text-align: right;\n",
       "    }\n",
       "</style>\n",
       "<table border=\"1\" class=\"dataframe\">\n",
       "  <thead>\n",
       "    <tr style=\"text-align: right;\">\n",
       "      <th></th>\n",
       "      <th>popularity</th>\n",
       "      <th>release-date</th>\n",
       "      <th>vote count</th>\n",
       "      <th>id</th>\n",
       "      <th>adult</th>\n",
       "      <th>original_title</th>\n",
       "      <th>genre_ids</th>\n",
       "    </tr>\n",
       "  </thead>\n",
       "  <tbody>\n",
       "    <tr>\n",
       "      <th>0</th>\n",
       "      <td>282.693</td>\n",
       "      <td>2019-04-24</td>\n",
       "      <td>17543</td>\n",
       "      <td>299534</td>\n",
       "      <td>False</td>\n",
       "      <td>Avengers: Endgame</td>\n",
       "      <td>[12, 878, 28]</td>\n",
       "    </tr>\n",
       "  </tbody>\n",
       "</table>\n",
       "</div>"
      ],
      "text/plain": [
       "   popularity release-date  vote count      id  adult     original_title  \\\n",
       "0     282.693   2019-04-24       17543  299534  False  Avengers: Endgame   \n",
       "\n",
       "       genre_ids  \n",
       "0  [12, 878, 28]  "
      ]
     },
     "execution_count": 45,
     "metadata": {},
     "output_type": "execute_result"
    }
   ],
   "source": [
    "response2019 = requests.get('https://api.themoviedb.org/3/discover/movie?api_key=' +  api_key + '&primary_release_year=2019&sort_by=revenue.desc')\n",
    "result2019 = response2019.json()\n",
    "titles2019 = result2019['results']\n",
    "\n",
    "new_dict = {}\n",
    "\n",
    "for i in range(len(titles2019)) :\n",
    "    new_dict[i] = [titles2019[i]['popularity'], titles2019[i]['release_date'], titles2019[i]['vote_count'], titles2019[i]['id'], titles2019[i]['adult'], titles2019[i]['original_title'], titles2019[i]['genre_ids']]\n",
    "    \n",
    "data2019 = pd.DataFrame.from_dict(new_dict, orient = 'index', columns = ['popularity', 'release-date', 'vote count','id', 'adult', 'original_title', 'genre_ids'])\n",
    "columns = ['popularity', 'release-date','vote count', 'id', 'adult', 'original_title', 'genre_ids']\n",
    "data2019.head(1)"
   ]
  },
  {
   "cell_type": "code",
   "execution_count": 46,
   "metadata": {},
   "outputs": [
    {
     "data": {
      "text/html": [
       "<div>\n",
       "<style scoped>\n",
       "    .dataframe tbody tr th:only-of-type {\n",
       "        vertical-align: middle;\n",
       "    }\n",
       "\n",
       "    .dataframe tbody tr th {\n",
       "        vertical-align: top;\n",
       "    }\n",
       "\n",
       "    .dataframe thead th {\n",
       "        text-align: right;\n",
       "    }\n",
       "</style>\n",
       "<table border=\"1\" class=\"dataframe\">\n",
       "  <thead>\n",
       "    <tr style=\"text-align: right;\">\n",
       "      <th></th>\n",
       "      <th>popularity</th>\n",
       "      <th>release-date</th>\n",
       "      <th>vote count</th>\n",
       "      <th>id</th>\n",
       "      <th>adult</th>\n",
       "      <th>original_title</th>\n",
       "      <th>genre_ids</th>\n",
       "    </tr>\n",
       "  </thead>\n",
       "  <tbody>\n",
       "    <tr>\n",
       "      <th>0</th>\n",
       "      <td>14.21</td>\n",
       "      <td>2020-08-14</td>\n",
       "      <td>58</td>\n",
       "      <td>508935</td>\n",
       "      <td>False</td>\n",
       "      <td>八佰</td>\n",
       "      <td>[10752, 36, 18, 28]</td>\n",
       "    </tr>\n",
       "  </tbody>\n",
       "</table>\n",
       "</div>"
      ],
      "text/plain": [
       "   popularity release-date  vote count      id  adult original_title  \\\n",
       "0       14.21   2020-08-14          58  508935  False             八佰   \n",
       "\n",
       "             genre_ids  \n",
       "0  [10752, 36, 18, 28]  "
      ]
     },
     "execution_count": 46,
     "metadata": {},
     "output_type": "execute_result"
    }
   ],
   "source": [
    "response2020 = requests.get('https://api.themoviedb.org/3/discover/movie?api_key=' +  api_key + '&primary_release_year=2020&sort_by=revenue.desc')\n",
    "result2020 = response2020.json()\n",
    "titles2020 = result2020['results']\n",
    "\n",
    "new_dict = {}\n",
    "\n",
    "for i in range(len(titles2020)) :\n",
    "    new_dict[i] = [titles2020[i]['popularity'], titles2020[i]['release_date'], titles2020[i]['vote_count'], titles2020[i]['id'], titles2020[i]['adult'], titles2020[i]['original_title'], titles2020[i]['genre_ids']]\n",
    "    \n",
    "data2020 = pd.DataFrame.from_dict(new_dict, orient = 'index', columns = ['popularity', 'release-date', 'vote count','id', 'adult', 'original_title', 'genre_ids'])\n",
    "columns = ['popularity', 'release-date','vote count', 'id', 'adult', 'original_title', 'genre_ids']\n",
    "data2020.head(1)"
   ]
  },
  {
   "cell_type": "code",
   "execution_count": 47,
   "metadata": {},
   "outputs": [
    {
     "data": {
      "text/html": [
       "<div>\n",
       "<style scoped>\n",
       "    .dataframe tbody tr th:only-of-type {\n",
       "        vertical-align: middle;\n",
       "    }\n",
       "\n",
       "    .dataframe tbody tr th {\n",
       "        vertical-align: top;\n",
       "    }\n",
       "\n",
       "    .dataframe thead th {\n",
       "        text-align: right;\n",
       "    }\n",
       "</style>\n",
       "<table border=\"1\" class=\"dataframe\">\n",
       "  <thead>\n",
       "    <tr style=\"text-align: right;\">\n",
       "      <th></th>\n",
       "      <th>popularity</th>\n",
       "      <th>release-date</th>\n",
       "      <th>vote count</th>\n",
       "      <th>id</th>\n",
       "      <th>adult</th>\n",
       "      <th>original_title</th>\n",
       "      <th>genre_ids</th>\n",
       "    </tr>\n",
       "  </thead>\n",
       "  <tbody>\n",
       "    <tr>\n",
       "      <th>0</th>\n",
       "      <td>1767.249</td>\n",
       "      <td>2020-12-16</td>\n",
       "      <td>4425</td>\n",
       "      <td>464052</td>\n",
       "      <td>False</td>\n",
       "      <td>Wonder Woman 1984</td>\n",
       "      <td>[14, 28, 12]</td>\n",
       "    </tr>\n",
       "    <tr>\n",
       "      <th>1</th>\n",
       "      <td>701.920</td>\n",
       "      <td>2020-11-25</td>\n",
       "      <td>1781</td>\n",
       "      <td>529203</td>\n",
       "      <td>False</td>\n",
       "      <td>The Croods: A New Age</td>\n",
       "      <td>[10751, 14, 16, 35]</td>\n",
       "    </tr>\n",
       "    <tr>\n",
       "      <th>2</th>\n",
       "      <td>688.025</td>\n",
       "      <td>2020-12-25</td>\n",
       "      <td>5370</td>\n",
       "      <td>508442</td>\n",
       "      <td>False</td>\n",
       "      <td>Soul</td>\n",
       "      <td>[10751, 16, 35, 18, 10402, 14]</td>\n",
       "    </tr>\n",
       "    <tr>\n",
       "      <th>3</th>\n",
       "      <td>580.339</td>\n",
       "      <td>2020-02-05</td>\n",
       "      <td>7175</td>\n",
       "      <td>495764</td>\n",
       "      <td>False</td>\n",
       "      <td>Birds of Prey (and the Fantabulous Emancipatio...</td>\n",
       "      <td>[28, 80]</td>\n",
       "    </tr>\n",
       "    <tr>\n",
       "      <th>4</th>\n",
       "      <td>479.243</td>\n",
       "      <td>2020-08-22</td>\n",
       "      <td>4771</td>\n",
       "      <td>577922</td>\n",
       "      <td>False</td>\n",
       "      <td>Tenet</td>\n",
       "      <td>[28, 53, 878]</td>\n",
       "    </tr>\n",
       "  </tbody>\n",
       "</table>\n",
       "</div>"
      ],
      "text/plain": [
       "   popularity release-date  vote count      id  adult  \\\n",
       "0    1767.249   2020-12-16        4425  464052  False   \n",
       "1     701.920   2020-11-25        1781  529203  False   \n",
       "2     688.025   2020-12-25        5370  508442  False   \n",
       "3     580.339   2020-02-05        7175  495764  False   \n",
       "4     479.243   2020-08-22        4771  577922  False   \n",
       "\n",
       "                                      original_title  \\\n",
       "0                                  Wonder Woman 1984   \n",
       "1                              The Croods: A New Age   \n",
       "2                                               Soul   \n",
       "3  Birds of Prey (and the Fantabulous Emancipatio...   \n",
       "4                                              Tenet   \n",
       "\n",
       "                        genre_ids  \n",
       "0                    [14, 28, 12]  \n",
       "1             [10751, 14, 16, 35]  \n",
       "2  [10751, 16, 35, 18, 10402, 14]  \n",
       "3                        [28, 80]  \n",
       "4                   [28, 53, 878]  "
      ]
     },
     "execution_count": 47,
     "metadata": {},
     "output_type": "execute_result"
    }
   ],
   "source": [
    "result = data2016.append(data2016).append(data2017).append(data2018).append(data2019).append(data2020)\n",
    "result = result.sort_values(by='popularity', ascending = False)\n",
    "result.head(50)\n",
    "\n",
    "result.reset_index(drop = True, inplace = True)\n",
    "resultTop5 = result[0:5]\n",
    "resultTop5"
   ]
  },
  {
   "cell_type": "markdown",
   "metadata": {},
   "source": [
    "### Does the movie being categorsied as `Adult` affect its popularity"
   ]
  },
  {
   "cell_type": "code",
   "execution_count": 48,
   "metadata": {},
   "outputs": [
    {
     "data": {
      "text/plain": [
       "<seaborn.axisgrid.FacetGrid at 0x26b69f85790>"
      ]
     },
     "execution_count": 48,
     "metadata": {},
     "output_type": "execute_result"
    },
    {
     "data": {
      "image/png": "[encoded data removed]",
      "text/plain": [
       "<Figure size 576x576 with 1 Axes>"
      ]
     },
     "metadata": {
      "needs_background": "light"
     },
     "output_type": "display_data"
    }
   ],
   "source": [
    "sb.catplot(y = 'adult', data = result, kind = \"count\", height = 8)"
   ]
  },
  {
   "cell_type": "markdown",
   "metadata": {},
   "source": [
    "In the past 5 years, the top 20 movies of each year, `ALL` the movies is NOT an 'adult' firm. We can infer that movies that are suited for all age group are more well received."
   ]
  },
  {
   "cell_type": "markdown",
   "metadata": {},
   "source": [
    "### What are the top 5 movies in the last 5 years"
   ]
  },
  {
   "cell_type": "code",
   "execution_count": 49,
   "metadata": {},
   "outputs": [
    {
     "data": {
      "text/plain": [
       "<AxesSubplot:xlabel='vote count', ylabel='original_title'>"
      ]
     },
     "execution_count": 49,
     "metadata": {},
     "output_type": "execute_result"
    },
    {
     "data": {
      "image/png": "[encoded data removed]",
      "text/plain": [
       "<Figure size 432x648 with 1 Axes>"
      ]
     },
     "metadata": {
      "needs_background": "light"
     },
     "output_type": "display_data"
    }
   ],
   "source": [
    "f = plt.figure(figsize=(6, 9))\n",
    "sb.barplot(x=\"vote count\", y=\"original_title\", data= resultTop5)"
   ]
  },
  {
   "cell_type": "markdown",
   "metadata": {},
   "source": [
    "`Wonder Woman 1984`, `Soul`, `Birds of Prey`, `The croods: A New Age` and `Justice League` are the 5 movies that received the highest vote count in the last 5 years"
   ]
  },
  {
   "cell_type": "markdown",
   "metadata": {},
   "source": [
    "### Correalation between vote count and popularity"
   ]
  },
  {
   "cell_type": "code",
   "execution_count": 50,
   "metadata": {},
   "outputs": [
    {
     "data": {
      "text/plain": [
       "<seaborn.axisgrid.JointGrid at 0x26b6b1d1cd0>"
      ]
     },
     "execution_count": 50,
     "metadata": {},
     "output_type": "execute_result"
    },
    {
     "data": {
      "image/png": "[encoded data removed]",
      "text/plain": [
       "<Figure size 504x504 with 3 Axes>"
      ]
     },
     "metadata": {
      "needs_background": "light"
     },
     "output_type": "display_data"
    }
   ],
   "source": [
    "sb.jointplot(data = result, x = \"popularity\", y = \"vote count\", height = 7)"
   ]
  },
  {
   "cell_type": "markdown",
   "metadata": {},
   "source": [
    "The above graph shows the relationship between popularity and vote count for the last 5 years. It is evident that popularity and vote count `DOES NOT` have a direct relation. With that in mind, we will dive deeper in the co-relation between runtime, vote_average, revenue and popularity"
   ]
  },
  {
   "cell_type": "code",
   "execution_count": null,
   "metadata": {},
   "outputs": [],
   "source": []
  },
  {
   "cell_type": "markdown",
   "metadata": {},
   "source": [
    "### Popularity throughout the 5 years."
   ]
  },
  {
   "cell_type": "code",
   "execution_count": 51,
   "metadata": {},
   "outputs": [],
   "source": [
    "def _constructorNoOfMov(varN): # Number of movies Per Month\n",
    "    varN.sort_index(inplace=True) #Ensure plotting in time order\n",
    "\n",
    "    fig, ax = plt.subplots()\n",
    "    varN.assign(dates = newR0.index.strftime('%m')).plot(kind='bar', x='dates', ax=ax)\n",
    "\n",
    "    ax.legend([\"Number of movies produced Per Month\"]);\n",
    "    ax.set_xlabel(\"Months\")\n",
    "\n",
    "    fig.autofmt_xdate()  #Rotate the dates so they aren't squished\n",
    "    plt.show()\n",
    "    \n",
    "def _constructorPopularity(varN): # Popularity Per Month\n",
    "    varN.sort_index(inplace=True) #Ensure plotting in time order\n",
    "\n",
    "    fig, ax = plt.subplots()\n",
    "    varN.assign(dates = varN.index.strftime('%m')).plot(kind='bar', x='dates', ax=ax)\n",
    "    \n",
    "    ax.legend([\"Total Popularity Per Month\"]);\n",
    "    ax.set_xlabel(\"Months\")\n",
    "\n",
    "    fig.autofmt_xdate()  #Rotate the dates so they aren't squished\n",
    "    plt.show()"
   ]
  },
  {
   "cell_type": "code",
   "execution_count": 52,
   "metadata": {},
   "outputs": [],
   "source": [
    "data2016['release-date'] = data2016['release-date'].astype('datetime64[ns]')\n",
    "newR6 = data2016.groupby(pd.Grouper(key='release-date',freq='M')).sum()\n",
    "newR6.drop(['id', 'vote count', 'adult'], inplace=True, axis=1)\n",
    "\n",
    "data2017['release-date'] = data2017['release-date'].astype('datetime64[ns]')\n",
    "newR7 = data2017.groupby(pd.Grouper(key='release-date',freq='M')).sum()\n",
    "newR7.drop(['id', 'vote count', 'adult'], inplace=True, axis=1)\n",
    "\n",
    "data2018['release-date'] = data2018['release-date'].astype('datetime64[ns]')\n",
    "newR8 = data2018.groupby(pd.Grouper(key='release-date',freq='M')).sum()\n",
    "newR8.drop(['id', 'vote count', 'adult'], inplace=True, axis=1)\n",
    "\n",
    "data2019['release-date'] = data2019['release-date'].astype('datetime64[ns]')\n",
    "newR9 = data2019.groupby(pd.Grouper(key='release-date',freq='M')).sum()\n",
    "newR9.drop(['id', 'vote count', 'adult'], inplace=True, axis=1)\n",
    "\n",
    "data2020['release-date'] = data2020['release-date'].astype('datetime64[ns]')\n",
    "newR0 = data2020.groupby(pd.Grouper(key='release-date',freq='M')).sum()\n",
    "newR0.drop(['id', 'vote count', 'adult'], inplace=True, axis=1)\n",
    "\n",
    "result['release-date'] = result['release-date'].astype('datetime64[ns]')\n",
    "newR = result.groupby(pd.Grouper(key='release-date',freq='Y')).sum()\n",
    "newR.drop(['id', 'vote count', 'adult'], inplace=True, axis=1)"
   ]
  },
  {
   "cell_type": "code",
   "execution_count": null,
   "metadata": {},
   "outputs": [],
   "source": []
  },
  {
   "cell_type": "code",
   "execution_count": 53,
   "metadata": {
    "scrolled": false
   },
   "outputs": [
    {
     "data": {
      "image/png": "[encoded data removed]",
      "text/plain": [
       "<Figure size 432x288 with 1 Axes>"
      ]
     },
     "metadata": {
      "needs_background": "light"
     },
     "output_type": "display_data"
    },
    {
     "name": "stdout",
     "output_type": "stream",
     "text": [
      "Which year would you want to see in more details: 2020\n"
     ]
    },
    {
     "data": {
      "image/png": "[encoded data removed]",
      "text/plain": [
       "<Figure size 432x288 with 1 Axes>"
      ]
     },
     "metadata": {
      "needs_background": "light"
     },
     "output_type": "display_data"
    }
   ],
   "source": [
    "import matplotlib.dates as mdates\n",
    "\n",
    "newR.sort_index(inplace=True) #Ensure plotting in time order\n",
    "\n",
    "fig, ax = plt.subplots()\n",
    "newR.assign(dates = newR.index.strftime('%Y')).plot(kind='bar', x='dates', ax=ax)\n",
    "\n",
    "ax.legend([\"Total Popularity in the last 5 years\"]);\n",
    "ax.set_xlabel(\"Year\")\n",
    "\n",
    "fig.autofmt_xdate()  #Rotate the dates so they aren't squished\n",
    "plt.show()\n",
    "\n",
    "year = input(\"Which year would you want to see in more details: \")\n",
    "\n",
    "if (year == '2016'):\n",
    "\n",
    "    _constructorPopularity(newR6)\n",
    "\n",
    "elif (year == '2017'):\n",
    "\n",
    "    _constructorPopularity(newR7)\n",
    "    \n",
    "elif (year == '2018'):\n",
    "\n",
    "    _constructorPopularity(newR8)\n",
    "    \n",
    "elif (year == '2019'):\n",
    "\n",
    "    _constructorPopularity(newR9)\n",
    "    \n",
    "elif (year == '2020'):\n",
    "\n",
    "    _constructorPopularity(newR0)\n",
    "\n",
    "else:\n",
    "    printf(\"Invalid input\")"
   ]
  },
  {
   "cell_type": "markdown",
   "metadata": {},
   "source": [
    "### Number of Movies Released Per Month"
   ]
  },
  {
   "cell_type": "code",
   "execution_count": 62,
   "metadata": {},
   "outputs": [],
   "source": [
    "data2016['release-date'] = data2016['release-date'].astype('datetime64[ns]')\n",
    "newN6 = data2016.groupby(pd.Grouper(key='release-date',freq='M')).count()\n",
    "newN6.drop(['id', 'vote count', 'adult', 'original_title', 'genre_ids'], inplace=True, axis=1)\n",
    "\n",
    "data2017['release-date'] = data2017['release-date'].astype('datetime64[ns]')\n",
    "newN7 = data2017.groupby(pd.Grouper(key='release-date',freq='M')).count()\n",
    "newN7.drop(['id', 'vote count', 'adult', 'original_title', 'genre_ids'], inplace=True, axis=1)\n",
    "\n",
    "data2018['release-date'] = data2018['release-date'].astype('datetime64[ns]')\n",
    "newN8 = data2018.groupby(pd.Grouper(key='release-date',freq='M')).count()\n",
    "newN8.drop(['id', 'vote count', 'adult', 'original_title', 'genre_ids'], inplace=True, axis=1)\n",
    "\n",
    "data2019['release-date'] = data2019['release-date'].astype('datetime64[ns]')\n",
    "newN9 = data2019.groupby(pd.Grouper(key='release-date',freq='M')).count()\n",
    "newN9.drop(['id', 'vote count', 'adult', 'original_title', 'genre_ids'], inplace=True, axis=1)\n",
    "\n",
    "data2020['release-date'] = data2020['release-date'].astype('datetime64[ns]')\n",
    "newN0 = data2020.groupby(pd.Grouper(key='release-date',freq='M')).count()\n",
    "newN0.drop(['id', 'vote count', 'adult', 'original_title', 'genre_ids'], inplace=True, axis=1)"
   ]
  },
  {
   "cell_type": "code",
   "execution_count": 63,
   "metadata": {},
   "outputs": [
    {
     "name": "stdout",
     "output_type": "stream",
     "text": [
      "Which year would you want to see in more details: 2020\n"
     ]
    },
    {
     "data": {
      "image/png": "[encoded data removed]",
      "text/plain": [
       "<Figure size 432x288 with 1 Axes>"
      ]
     },
     "metadata": {
      "needs_background": "light"
     },
     "output_type": "display_data"
    }
   ],
   "source": [
    "year = input(\"Which year would you want to see in more details: \")\n",
    "\n",
    "if (year == '2016'):\n",
    "\n",
    "    _constructorNoOfMov(newN6)\n",
    "\n",
    "elif (year == '2017'): #Need to add row at the top (Error)\n",
    "\n",
    "    _constructorNoOfMov(newN7)\n",
    "    \n",
    "elif (year == '2018'): #Need to add row at the top (Error)\n",
    "\n",
    "    _constructorNoOfMov(newN8)\n",
    "    \n",
    "elif (year == '2019'):\n",
    "\n",
    "    _constructorNoOfMov(newN9)\n",
    "    \n",
    "elif (year == '2020'):\n",
    "\n",
    "    _constructorNoOfMov(newN0)\n",
    "\n",
    "else:\n",
    "    printf(\"Invalid input\")"
   ]
  },
  {
   "cell_type": "code",
   "execution_count": null,
   "metadata": {},
   "outputs": [],
   "source": []
  },
  {
   "cell_type": "markdown",
   "metadata": {},
   "source": [
    "### Genre Produced throughout the 5 years"
   ]
  },
  {
   "cell_type": "code",
   "execution_count": 80,
   "metadata": {
    "scrolled": false
   },
   "outputs": [
    {
     "data": {
      "text/plain": [
       "{0: [28, 'Action'],\n",
       " 1: [12, 'Adventure'],\n",
       " 2: [16, 'Animation'],\n",
       " 3: [35, 'Comedy'],\n",
       " 4: [80, 'Crime'],\n",
       " 5: [99, 'Documentary'],\n",
       " 6: [18, 'Drama'],\n",
       " 7: [10751, 'Family'],\n",
       " 8: [14, 'Fantasy'],\n",
       " 9: [36, 'History'],\n",
       " 10: [27, 'Horror'],\n",
       " 11: [10402, 'Music'],\n",
       " 12: [9648, 'Mystery'],\n",
       " 13: [10749, 'Romance'],\n",
       " 14: [878, 'Science Fiction'],\n",
       " 15: [10770, 'TV Movie'],\n",
       " 16: [53, 'Thriller'],\n",
       " 17: [10752, 'War'],\n",
       " 18: [37, 'Western']}"
      ]
     },
     "execution_count": 80,
     "metadata": {},
     "output_type": "execute_result"
    }
   ],
   "source": [
    "response = requests.get('https://api.themoviedb.org/3/genre/movie/list?api_key=aaa47fdcde4f3ddc7519fb20b452e47c&language=en-US')\n",
    "genreL = response.json()\n",
    "genreL = genreL['genres']\n",
    "new_dict = {}\n",
    "for i in range(len(genreL)) :\n",
    "    new_dict[i] = [genreL[i]['id'], genreL[i]['name']]\n",
    "new_dict"
   ]
  },
  {
   "cell_type": "code",
   "execution_count": 95,
   "metadata": {},
   "outputs": [
    {
     "data": {
      "text/html": [
       "<div>\n",
       "<style scoped>\n",
       "    .dataframe tbody tr th:only-of-type {\n",
       "        vertical-align: middle;\n",
       "    }\n",
       "\n",
       "    .dataframe tbody tr th {\n",
       "        vertical-align: top;\n",
       "    }\n",
       "\n",
       "    .dataframe thead th {\n",
       "        text-align: right;\n",
       "    }\n",
       "</style>\n",
       "<table border=\"1\" class=\"dataframe\">\n",
       "  <thead>\n",
       "    <tr style=\"text-align: right;\">\n",
       "      <th></th>\n",
       "      <th>release-date</th>\n",
       "      <th>genre</th>\n",
       "      <th>no_of_genres</th>\n",
       "    </tr>\n",
       "  </thead>\n",
       "  <tbody>\n",
       "  </tbody>\n",
       "</table>\n",
       "</div>"
      ],
      "text/plain": [
       "Empty DataFrame\n",
       "Columns: [release-date, genre, no_of_genres]\n",
       "Index: []"
      ]
     },
     "execution_count": 95,
     "metadata": {},
     "output_type": "execute_result"
    }
   ],
   "source": [
    "data2016.head(1)\n",
    "len(data2016)\n",
    "columns = ['release-date', 'genre', 'no_of_genres']\n",
    "\n",
    "# create dataframe with film and revenue columns\n",
    "Ndf = pd.DataFrame(columns=columns)\n",
    "Ndf"
   ]
  },
  {
   "cell_type": "code",
   "execution_count": 98,
   "metadata": {},
   "outputs": [],
   "source": [
    "data2016.reset_index(drop = True,inplace = True)\n",
    "\n",
    "for i in range(len(data2016)):\n",
    "    genre = ''\n",
    "    no_gen = 0\n",
    "    releaseDate = data2016['release-date'][i]"
   ]
  },
  {
   "cell_type": "code",
   "execution_count": null,
   "metadata": {},
   "outputs": [],
   "source": []
  },
  {
   "cell_type": "markdown",
   "metadata": {},
   "source": [
    "# Testing"
   ]
  },
  {
   "cell_type": "code",
   "execution_count": null,
   "metadata": {},
   "outputs": [],
   "source": []
  },
  {
   "cell_type": "code",
   "execution_count": null,
   "metadata": {},
   "outputs": [],
   "source": []
  },
  {
   "cell_type": "code",
   "execution_count": null,
   "metadata": {},
   "outputs": [],
   "source": []
  },
  {
   "cell_type": "code",
   "execution_count": null,
   "metadata": {},
   "outputs": [],
   "source": []
  },
  {
   "cell_type": "code",
   "execution_count": null,
   "metadata": {},
   "outputs": [],
   "source": []
  }
 ],
 "metadata": {
  "kernelspec": {
   "display_name": "Python 3",
   "language": "python",
   "name": "python3"
  },
  "language_info": {
   "codemirror_mode": {
    "name": "ipython",
    "version": 3
   },
   "file_extension": ".py",
   "mimetype": "text/x-python",
   "name": "python",
   "nbconvert_exporter": "python",
   "pygments_lexer": "ipython3",
   "version": "3.8.5"
  }
 },
 "nbformat": 4,
 "nbformat_minor": 4
}
